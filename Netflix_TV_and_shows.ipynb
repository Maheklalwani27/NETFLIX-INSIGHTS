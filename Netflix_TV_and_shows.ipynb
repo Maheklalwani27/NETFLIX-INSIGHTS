{
  "nbformat": 4,
  "nbformat_minor": 0,
  "metadata": {
    "colab": {
      "name": "Netflix TV and shows.ipynb",
      "provenance": [],
      "collapsed_sections": []
    },
    "kernelspec": {
      "name": "python3",
      "display_name": "Python 3"
    },
    "language_info": {
      "name": "python"
    }
  },
  "cells": [
    {
      "cell_type": "markdown",
      "source": [
        "About this Dataset: Netflix is one of the most popular media and video streaming platforms. They have over 8000 movies or tv shows available on their platform, as of mid-2021, they have over 200M Subscribers globally. This tabular dataset consists of listings of all the movies and tv shows available on Netflix, along with details such as - cast, directors, ratings, release year, duration, etc."
      ],
      "metadata": {
        "id": "0qkACU8QUaOd"
      }
    },
    {
      "cell_type": "markdown",
      "source": [
        "Interesting Task Ideas\n",
        "\n",
        "Understanding what content is available in different countries\n",
        "\n",
        "Network analysis of Actors / Directors and find interesting insights\n",
        "\n",
        "Does Netflix has more focus on TV Shows than movies in recent years."
      ],
      "metadata": {
        "id": "B9YjiNAenpIK"
      }
    },
    {
      "cell_type": "markdown",
      "source": [
        "SOLUTION"
      ],
      "metadata": {
        "id": "bcWkDv1pnxQ8"
      }
    },
    {
      "cell_type": "markdown",
      "source": [
        "APPROCH TO FOLLOW:\n",
        "\n",
        "Importing necessary Libraries\n",
        "\n",
        "Basic opeartions\n",
        "\n",
        "Finding Correlation\n",
        "\n",
        "Dealing with Null values and Duplicates\n",
        "\n",
        "Performing Exploratory Data Analysis\n",
        "\n",
        "Drawing Insights\n"
      ],
      "metadata": {
        "id": "gvv6gk5knzkY"
      }
    },
    {
      "cell_type": "markdown",
      "source": [
        "IMPORTING ESSENTIAL LIBRARIES"
      ],
      "metadata": {
        "id": "_tOsMiOQoMmX"
      }
    },
    {
      "cell_type": "code",
      "execution_count": 2,
      "metadata": {
        "id": "AG8W7IfvURB7"
      },
      "outputs": [],
      "source": [
        "import pandas as pd\n",
        "import numpy as np\n",
        "import matplotlib.pyplot as plt\n",
        "import seaborn as sns\n",
        "import plotly.express as px\n",
        "from textblob import TextBlob"
      ]
    },
    {
      "cell_type": "markdown",
      "source": [
        "IMPORTING FILE PATH"
      ],
      "metadata": {
        "id": "7ON_K4XPoUyy"
      }
    },
    {
      "cell_type": "code",
      "source": [
        "from google.colab import drive\n",
        "drive.mount('/content/drive')"
      ],
      "metadata": {
        "colab": {
          "base_uri": "https://localhost:8080/"
        },
        "id": "O2HTuwozoSlh",
        "outputId": "7c09c4ff-7598-4bfe-939c-ca70cd16ba3b"
      },
      "execution_count": 3,
      "outputs": [
        {
          "output_type": "stream",
          "name": "stdout",
          "text": [
            "Mounted at /content/drive\n"
          ]
        }
      ]
    },
    {
      "cell_type": "code",
      "source": [
        "netflix =pd.read_csv('/content/drive/MyDrive/Netflix.csv (1).zip')"
      ],
      "metadata": {
        "id": "tIhSa7KYoZx0"
      },
      "execution_count": 4,
      "outputs": []
    },
    {
      "cell_type": "markdown",
      "source": [
        "BASIC OPERATIONS"
      ],
      "metadata": {
        "id": "XvteZYhioxGD"
      }
    },
    {
      "cell_type": "code",
      "source": [
        "netflix.head()"
      ],
      "metadata": {
        "colab": {
          "base_uri": "https://localhost:8080/",
          "height": 337
        },
        "id": "A4BYiVHVot9K",
        "outputId": "08adebef-79da-4a25-f6ee-8000a6ac38b1"
      },
      "execution_count": 5,
      "outputs": [
        {
          "output_type": "execute_result",
          "data": {
            "text/plain": [
              "    show_id     type                                    title  \\\n",
              "0  81145628    Movie  Norm of the North: King Sized Adventure   \n",
              "1  80117401    Movie               Jandino: Whatever it Takes   \n",
              "2  70234439  TV Show                       Transformers Prime   \n",
              "3  80058654  TV Show         Transformers: Robots in Disguise   \n",
              "4  80125979    Movie                             #realityhigh   \n",
              "\n",
              "                   director  \\\n",
              "0  Richard Finn, Tim Maltby   \n",
              "1                       NaN   \n",
              "2                       NaN   \n",
              "3                       NaN   \n",
              "4          Fernando Lebrija   \n",
              "\n",
              "                                                cast  \\\n",
              "0  Alan Marriott, Andrew Toth, Brian Dobson, Cole...   \n",
              "1                                   Jandino Asporaat   \n",
              "2  Peter Cullen, Sumalee Montano, Frank Welker, J...   \n",
              "3  Will Friedle, Darren Criss, Constance Zimmer, ...   \n",
              "4  Nesta Cooper, Kate Walsh, John Michael Higgins...   \n",
              "\n",
              "                                    country         date_added  release_year  \\\n",
              "0  United States, India, South Korea, China  September 9, 2019          2019   \n",
              "1                            United Kingdom  September 9, 2016          2016   \n",
              "2                             United States  September 8, 2018          2013   \n",
              "3                             United States  September 8, 2018          2016   \n",
              "4                             United States  September 8, 2017          2017   \n",
              "\n",
              "     rating  duration                           listed_in  \\\n",
              "0     TV-PG    90 min  Children & Family Movies, Comedies   \n",
              "1     TV-MA    94 min                     Stand-Up Comedy   \n",
              "2  TV-Y7-FV  1 Season                            Kids' TV   \n",
              "3     TV-Y7  1 Season                            Kids' TV   \n",
              "4     TV-14    99 min                            Comedies   \n",
              "\n",
              "                                         description  \n",
              "0  Before planning an awesome wedding for his gra...  \n",
              "1  Jandino Asporaat riffs on the challenges of ra...  \n",
              "2  With the help of three human allies, the Autob...  \n",
              "3  When a prison ship crash unleashes hundreds of...  \n",
              "4  When nerdy high schooler Dani finally attracts...  "
            ],
            "text/html": [
              "\n",
              "  <div id=\"df-f866c50c-0564-47e6-aed1-d15e1d7b2566\">\n",
              "    <div class=\"colab-df-container\">\n",
              "      <div>\n",
              "<style scoped>\n",
              "    .dataframe tbody tr th:only-of-type {\n",
              "        vertical-align: middle;\n",
              "    }\n",
              "\n",
              "    .dataframe tbody tr th {\n",
              "        vertical-align: top;\n",
              "    }\n",
              "\n",
              "    .dataframe thead th {\n",
              "        text-align: right;\n",
              "    }\n",
              "</style>\n",
              "<table border=\"1\" class=\"dataframe\">\n",
              "  <thead>\n",
              "    <tr style=\"text-align: right;\">\n",
              "      <th></th>\n",
              "      <th>show_id</th>\n",
              "      <th>type</th>\n",
              "      <th>title</th>\n",
              "      <th>director</th>\n",
              "      <th>cast</th>\n",
              "      <th>country</th>\n",
              "      <th>date_added</th>\n",
              "      <th>release_year</th>\n",
              "      <th>rating</th>\n",
              "      <th>duration</th>\n",
              "      <th>listed_in</th>\n",
              "      <th>description</th>\n",
              "    </tr>\n",
              "  </thead>\n",
              "  <tbody>\n",
              "    <tr>\n",
              "      <th>0</th>\n",
              "      <td>81145628</td>\n",
              "      <td>Movie</td>\n",
              "      <td>Norm of the North: King Sized Adventure</td>\n",
              "      <td>Richard Finn, Tim Maltby</td>\n",
              "      <td>Alan Marriott, Andrew Toth, Brian Dobson, Cole...</td>\n",
              "      <td>United States, India, South Korea, China</td>\n",
              "      <td>September 9, 2019</td>\n",
              "      <td>2019</td>\n",
              "      <td>TV-PG</td>\n",
              "      <td>90 min</td>\n",
              "      <td>Children &amp; Family Movies, Comedies</td>\n",
              "      <td>Before planning an awesome wedding for his gra...</td>\n",
              "    </tr>\n",
              "    <tr>\n",
              "      <th>1</th>\n",
              "      <td>80117401</td>\n",
              "      <td>Movie</td>\n",
              "      <td>Jandino: Whatever it Takes</td>\n",
              "      <td>NaN</td>\n",
              "      <td>Jandino Asporaat</td>\n",
              "      <td>United Kingdom</td>\n",
              "      <td>September 9, 2016</td>\n",
              "      <td>2016</td>\n",
              "      <td>TV-MA</td>\n",
              "      <td>94 min</td>\n",
              "      <td>Stand-Up Comedy</td>\n",
              "      <td>Jandino Asporaat riffs on the challenges of ra...</td>\n",
              "    </tr>\n",
              "    <tr>\n",
              "      <th>2</th>\n",
              "      <td>70234439</td>\n",
              "      <td>TV Show</td>\n",
              "      <td>Transformers Prime</td>\n",
              "      <td>NaN</td>\n",
              "      <td>Peter Cullen, Sumalee Montano, Frank Welker, J...</td>\n",
              "      <td>United States</td>\n",
              "      <td>September 8, 2018</td>\n",
              "      <td>2013</td>\n",
              "      <td>TV-Y7-FV</td>\n",
              "      <td>1 Season</td>\n",
              "      <td>Kids' TV</td>\n",
              "      <td>With the help of three human allies, the Autob...</td>\n",
              "    </tr>\n",
              "    <tr>\n",
              "      <th>3</th>\n",
              "      <td>80058654</td>\n",
              "      <td>TV Show</td>\n",
              "      <td>Transformers: Robots in Disguise</td>\n",
              "      <td>NaN</td>\n",
              "      <td>Will Friedle, Darren Criss, Constance Zimmer, ...</td>\n",
              "      <td>United States</td>\n",
              "      <td>September 8, 2018</td>\n",
              "      <td>2016</td>\n",
              "      <td>TV-Y7</td>\n",
              "      <td>1 Season</td>\n",
              "      <td>Kids' TV</td>\n",
              "      <td>When a prison ship crash unleashes hundreds of...</td>\n",
              "    </tr>\n",
              "    <tr>\n",
              "      <th>4</th>\n",
              "      <td>80125979</td>\n",
              "      <td>Movie</td>\n",
              "      <td>#realityhigh</td>\n",
              "      <td>Fernando Lebrija</td>\n",
              "      <td>Nesta Cooper, Kate Walsh, John Michael Higgins...</td>\n",
              "      <td>United States</td>\n",
              "      <td>September 8, 2017</td>\n",
              "      <td>2017</td>\n",
              "      <td>TV-14</td>\n",
              "      <td>99 min</td>\n",
              "      <td>Comedies</td>\n",
              "      <td>When nerdy high schooler Dani finally attracts...</td>\n",
              "    </tr>\n",
              "  </tbody>\n",
              "</table>\n",
              "</div>\n",
              "      <button class=\"colab-df-convert\" onclick=\"convertToInteractive('df-f866c50c-0564-47e6-aed1-d15e1d7b2566')\"\n",
              "              title=\"Convert this dataframe to an interactive table.\"\n",
              "              style=\"display:none;\">\n",
              "        \n",
              "  <svg xmlns=\"http://www.w3.org/2000/svg\" height=\"24px\"viewBox=\"0 0 24 24\"\n",
              "       width=\"24px\">\n",
              "    <path d=\"M0 0h24v24H0V0z\" fill=\"none\"/>\n",
              "    <path d=\"M18.56 5.44l.94 2.06.94-2.06 2.06-.94-2.06-.94-.94-2.06-.94 2.06-2.06.94zm-11 1L8.5 8.5l.94-2.06 2.06-.94-2.06-.94L8.5 2.5l-.94 2.06-2.06.94zm10 10l.94 2.06.94-2.06 2.06-.94-2.06-.94-.94-2.06-.94 2.06-2.06.94z\"/><path d=\"M17.41 7.96l-1.37-1.37c-.4-.4-.92-.59-1.43-.59-.52 0-1.04.2-1.43.59L10.3 9.45l-7.72 7.72c-.78.78-.78 2.05 0 2.83L4 21.41c.39.39.9.59 1.41.59.51 0 1.02-.2 1.41-.59l7.78-7.78 2.81-2.81c.8-.78.8-2.07 0-2.86zM5.41 20L4 18.59l7.72-7.72 1.47 1.35L5.41 20z\"/>\n",
              "  </svg>\n",
              "      </button>\n",
              "      \n",
              "  <style>\n",
              "    .colab-df-container {\n",
              "      display:flex;\n",
              "      flex-wrap:wrap;\n",
              "      gap: 12px;\n",
              "    }\n",
              "\n",
              "    .colab-df-convert {\n",
              "      background-color: #E8F0FE;\n",
              "      border: none;\n",
              "      border-radius: 50%;\n",
              "      cursor: pointer;\n",
              "      display: none;\n",
              "      fill: #1967D2;\n",
              "      height: 32px;\n",
              "      padding: 0 0 0 0;\n",
              "      width: 32px;\n",
              "    }\n",
              "\n",
              "    .colab-df-convert:hover {\n",
              "      background-color: #E2EBFA;\n",
              "      box-shadow: 0px 1px 2px rgba(60, 64, 67, 0.3), 0px 1px 3px 1px rgba(60, 64, 67, 0.15);\n",
              "      fill: #174EA6;\n",
              "    }\n",
              "\n",
              "    [theme=dark] .colab-df-convert {\n",
              "      background-color: #3B4455;\n",
              "      fill: #D2E3FC;\n",
              "    }\n",
              "\n",
              "    [theme=dark] .colab-df-convert:hover {\n",
              "      background-color: #434B5C;\n",
              "      box-shadow: 0px 1px 3px 1px rgba(0, 0, 0, 0.15);\n",
              "      filter: drop-shadow(0px 1px 2px rgba(0, 0, 0, 0.3));\n",
              "      fill: #FFFFFF;\n",
              "    }\n",
              "  </style>\n",
              "\n",
              "      <script>\n",
              "        const buttonEl =\n",
              "          document.querySelector('#df-f866c50c-0564-47e6-aed1-d15e1d7b2566 button.colab-df-convert');\n",
              "        buttonEl.style.display =\n",
              "          google.colab.kernel.accessAllowed ? 'block' : 'none';\n",
              "\n",
              "        async function convertToInteractive(key) {\n",
              "          const element = document.querySelector('#df-f866c50c-0564-47e6-aed1-d15e1d7b2566');\n",
              "          const dataTable =\n",
              "            await google.colab.kernel.invokeFunction('convertToInteractive',\n",
              "                                                     [key], {});\n",
              "          if (!dataTable) return;\n",
              "\n",
              "          const docLinkHtml = 'Like what you see? Visit the ' +\n",
              "            '<a target=\"_blank\" href=https://colab.research.google.com/notebooks/data_table.ipynb>data table notebook</a>'\n",
              "            + ' to learn more about interactive tables.';\n",
              "          element.innerHTML = '';\n",
              "          dataTable['output_type'] = 'display_data';\n",
              "          await google.colab.output.renderOutput(dataTable, element);\n",
              "          const docLink = document.createElement('div');\n",
              "          docLink.innerHTML = docLinkHtml;\n",
              "          element.appendChild(docLink);\n",
              "        }\n",
              "      </script>\n",
              "    </div>\n",
              "  </div>\n",
              "  "
            ]
          },
          "metadata": {},
          "execution_count": 5
        }
      ]
    },
    {
      "cell_type": "code",
      "source": [
        "netflix.tail()"
      ],
      "metadata": {
        "colab": {
          "base_uri": "https://localhost:8080/",
          "height": 337
        },
        "id": "wRiELLnwo-7p",
        "outputId": "bcdebf79-9027-49e4-c0a7-634afb953e46"
      },
      "execution_count": 6,
      "outputs": [
        {
          "output_type": "execute_result",
          "data": {
            "text/plain": [
              "       show_id     type                                        title director  \\\n",
              "6229  80000063  TV Show                                 Red vs. Blue      NaN   \n",
              "6230  70286564  TV Show                                        Maron      NaN   \n",
              "6231  80116008    Movie       Little Baby Bum: Nursery Rhyme Friends      NaN   \n",
              "6232  70281022  TV Show  A Young Doctor's Notebook and Other Stories      NaN   \n",
              "6233  70153404  TV Show                                      Friends      NaN   \n",
              "\n",
              "                                                   cast         country  \\\n",
              "6229  Burnie Burns, Jason Saldaña, Gustavo Sorola, G...   United States   \n",
              "6230  Marc Maron, Judd Hirsch, Josh Brener, Nora Zeh...   United States   \n",
              "6231                                                NaN             NaN   \n",
              "6232  Daniel Radcliffe, Jon Hamm, Adam Godley, Chris...  United Kingdom   \n",
              "6233  Jennifer Aniston, Courteney Cox, Lisa Kudrow, ...   United States   \n",
              "\n",
              "     date_added  release_year rating    duration  \\\n",
              "6229        NaN          2015     NR  13 Seasons   \n",
              "6230        NaN          2016  TV-MA   4 Seasons   \n",
              "6231        NaN          2016    NaN      60 min   \n",
              "6232        NaN          2013  TV-MA   2 Seasons   \n",
              "6233        NaN          2003  TV-14  10 Seasons   \n",
              "\n",
              "                                              listed_in  \\\n",
              "6229  TV Action & Adventure, TV Comedies, TV Sci-Fi ...   \n",
              "6230                                        TV Comedies   \n",
              "6231                                             Movies   \n",
              "6232           British TV Shows, TV Comedies, TV Dramas   \n",
              "6233                     Classic & Cult TV, TV Comedies   \n",
              "\n",
              "                                            description  \n",
              "6229  This parody of first-person shooter games, mil...  \n",
              "6230  Marc Maron stars as Marc Maron, who interviews...  \n",
              "6231  Nursery rhymes and original music for children...  \n",
              "6232  Set during the Russian Revolution, this comic ...  \n",
              "6233  This hit sitcom follows the merry misadventure...  "
            ],
            "text/html": [
              "\n",
              "  <div id=\"df-75843e32-234f-4cf4-a913-6565e049bbdf\">\n",
              "    <div class=\"colab-df-container\">\n",
              "      <div>\n",
              "<style scoped>\n",
              "    .dataframe tbody tr th:only-of-type {\n",
              "        vertical-align: middle;\n",
              "    }\n",
              "\n",
              "    .dataframe tbody tr th {\n",
              "        vertical-align: top;\n",
              "    }\n",
              "\n",
              "    .dataframe thead th {\n",
              "        text-align: right;\n",
              "    }\n",
              "</style>\n",
              "<table border=\"1\" class=\"dataframe\">\n",
              "  <thead>\n",
              "    <tr style=\"text-align: right;\">\n",
              "      <th></th>\n",
              "      <th>show_id</th>\n",
              "      <th>type</th>\n",
              "      <th>title</th>\n",
              "      <th>director</th>\n",
              "      <th>cast</th>\n",
              "      <th>country</th>\n",
              "      <th>date_added</th>\n",
              "      <th>release_year</th>\n",
              "      <th>rating</th>\n",
              "      <th>duration</th>\n",
              "      <th>listed_in</th>\n",
              "      <th>description</th>\n",
              "    </tr>\n",
              "  </thead>\n",
              "  <tbody>\n",
              "    <tr>\n",
              "      <th>6229</th>\n",
              "      <td>80000063</td>\n",
              "      <td>TV Show</td>\n",
              "      <td>Red vs. Blue</td>\n",
              "      <td>NaN</td>\n",
              "      <td>Burnie Burns, Jason Saldaña, Gustavo Sorola, G...</td>\n",
              "      <td>United States</td>\n",
              "      <td>NaN</td>\n",
              "      <td>2015</td>\n",
              "      <td>NR</td>\n",
              "      <td>13 Seasons</td>\n",
              "      <td>TV Action &amp; Adventure, TV Comedies, TV Sci-Fi ...</td>\n",
              "      <td>This parody of first-person shooter games, mil...</td>\n",
              "    </tr>\n",
              "    <tr>\n",
              "      <th>6230</th>\n",
              "      <td>70286564</td>\n",
              "      <td>TV Show</td>\n",
              "      <td>Maron</td>\n",
              "      <td>NaN</td>\n",
              "      <td>Marc Maron, Judd Hirsch, Josh Brener, Nora Zeh...</td>\n",
              "      <td>United States</td>\n",
              "      <td>NaN</td>\n",
              "      <td>2016</td>\n",
              "      <td>TV-MA</td>\n",
              "      <td>4 Seasons</td>\n",
              "      <td>TV Comedies</td>\n",
              "      <td>Marc Maron stars as Marc Maron, who interviews...</td>\n",
              "    </tr>\n",
              "    <tr>\n",
              "      <th>6231</th>\n",
              "      <td>80116008</td>\n",
              "      <td>Movie</td>\n",
              "      <td>Little Baby Bum: Nursery Rhyme Friends</td>\n",
              "      <td>NaN</td>\n",
              "      <td>NaN</td>\n",
              "      <td>NaN</td>\n",
              "      <td>NaN</td>\n",
              "      <td>2016</td>\n",
              "      <td>NaN</td>\n",
              "      <td>60 min</td>\n",
              "      <td>Movies</td>\n",
              "      <td>Nursery rhymes and original music for children...</td>\n",
              "    </tr>\n",
              "    <tr>\n",
              "      <th>6232</th>\n",
              "      <td>70281022</td>\n",
              "      <td>TV Show</td>\n",
              "      <td>A Young Doctor's Notebook and Other Stories</td>\n",
              "      <td>NaN</td>\n",
              "      <td>Daniel Radcliffe, Jon Hamm, Adam Godley, Chris...</td>\n",
              "      <td>United Kingdom</td>\n",
              "      <td>NaN</td>\n",
              "      <td>2013</td>\n",
              "      <td>TV-MA</td>\n",
              "      <td>2 Seasons</td>\n",
              "      <td>British TV Shows, TV Comedies, TV Dramas</td>\n",
              "      <td>Set during the Russian Revolution, this comic ...</td>\n",
              "    </tr>\n",
              "    <tr>\n",
              "      <th>6233</th>\n",
              "      <td>70153404</td>\n",
              "      <td>TV Show</td>\n",
              "      <td>Friends</td>\n",
              "      <td>NaN</td>\n",
              "      <td>Jennifer Aniston, Courteney Cox, Lisa Kudrow, ...</td>\n",
              "      <td>United States</td>\n",
              "      <td>NaN</td>\n",
              "      <td>2003</td>\n",
              "      <td>TV-14</td>\n",
              "      <td>10 Seasons</td>\n",
              "      <td>Classic &amp; Cult TV, TV Comedies</td>\n",
              "      <td>This hit sitcom follows the merry misadventure...</td>\n",
              "    </tr>\n",
              "  </tbody>\n",
              "</table>\n",
              "</div>\n",
              "      <button class=\"colab-df-convert\" onclick=\"convertToInteractive('df-75843e32-234f-4cf4-a913-6565e049bbdf')\"\n",
              "              title=\"Convert this dataframe to an interactive table.\"\n",
              "              style=\"display:none;\">\n",
              "        \n",
              "  <svg xmlns=\"http://www.w3.org/2000/svg\" height=\"24px\"viewBox=\"0 0 24 24\"\n",
              "       width=\"24px\">\n",
              "    <path d=\"M0 0h24v24H0V0z\" fill=\"none\"/>\n",
              "    <path d=\"M18.56 5.44l.94 2.06.94-2.06 2.06-.94-2.06-.94-.94-2.06-.94 2.06-2.06.94zm-11 1L8.5 8.5l.94-2.06 2.06-.94-2.06-.94L8.5 2.5l-.94 2.06-2.06.94zm10 10l.94 2.06.94-2.06 2.06-.94-2.06-.94-.94-2.06-.94 2.06-2.06.94z\"/><path d=\"M17.41 7.96l-1.37-1.37c-.4-.4-.92-.59-1.43-.59-.52 0-1.04.2-1.43.59L10.3 9.45l-7.72 7.72c-.78.78-.78 2.05 0 2.83L4 21.41c.39.39.9.59 1.41.59.51 0 1.02-.2 1.41-.59l7.78-7.78 2.81-2.81c.8-.78.8-2.07 0-2.86zM5.41 20L4 18.59l7.72-7.72 1.47 1.35L5.41 20z\"/>\n",
              "  </svg>\n",
              "      </button>\n",
              "      \n",
              "  <style>\n",
              "    .colab-df-container {\n",
              "      display:flex;\n",
              "      flex-wrap:wrap;\n",
              "      gap: 12px;\n",
              "    }\n",
              "\n",
              "    .colab-df-convert {\n",
              "      background-color: #E8F0FE;\n",
              "      border: none;\n",
              "      border-radius: 50%;\n",
              "      cursor: pointer;\n",
              "      display: none;\n",
              "      fill: #1967D2;\n",
              "      height: 32px;\n",
              "      padding: 0 0 0 0;\n",
              "      width: 32px;\n",
              "    }\n",
              "\n",
              "    .colab-df-convert:hover {\n",
              "      background-color: #E2EBFA;\n",
              "      box-shadow: 0px 1px 2px rgba(60, 64, 67, 0.3), 0px 1px 3px 1px rgba(60, 64, 67, 0.15);\n",
              "      fill: #174EA6;\n",
              "    }\n",
              "\n",
              "    [theme=dark] .colab-df-convert {\n",
              "      background-color: #3B4455;\n",
              "      fill: #D2E3FC;\n",
              "    }\n",
              "\n",
              "    [theme=dark] .colab-df-convert:hover {\n",
              "      background-color: #434B5C;\n",
              "      box-shadow: 0px 1px 3px 1px rgba(0, 0, 0, 0.15);\n",
              "      filter: drop-shadow(0px 1px 2px rgba(0, 0, 0, 0.3));\n",
              "      fill: #FFFFFF;\n",
              "    }\n",
              "  </style>\n",
              "\n",
              "      <script>\n",
              "        const buttonEl =\n",
              "          document.querySelector('#df-75843e32-234f-4cf4-a913-6565e049bbdf button.colab-df-convert');\n",
              "        buttonEl.style.display =\n",
              "          google.colab.kernel.accessAllowed ? 'block' : 'none';\n",
              "\n",
              "        async function convertToInteractive(key) {\n",
              "          const element = document.querySelector('#df-75843e32-234f-4cf4-a913-6565e049bbdf');\n",
              "          const dataTable =\n",
              "            await google.colab.kernel.invokeFunction('convertToInteractive',\n",
              "                                                     [key], {});\n",
              "          if (!dataTable) return;\n",
              "\n",
              "          const docLinkHtml = 'Like what you see? Visit the ' +\n",
              "            '<a target=\"_blank\" href=https://colab.research.google.com/notebooks/data_table.ipynb>data table notebook</a>'\n",
              "            + ' to learn more about interactive tables.';\n",
              "          element.innerHTML = '';\n",
              "          dataTable['output_type'] = 'display_data';\n",
              "          await google.colab.output.renderOutput(dataTable, element);\n",
              "          const docLink = document.createElement('div');\n",
              "          docLink.innerHTML = docLinkHtml;\n",
              "          element.appendChild(docLink);\n",
              "        }\n",
              "      </script>\n",
              "    </div>\n",
              "  </div>\n",
              "  "
            ]
          },
          "metadata": {},
          "execution_count": 6
        }
      ]
    },
    {
      "cell_type": "code",
      "source": [
        "netflix.shape"
      ],
      "metadata": {
        "colab": {
          "base_uri": "https://localhost:8080/"
        },
        "id": "DWsG-5ZIpBvb",
        "outputId": "91b0d820-5085-4c87-d889-4c52e5a616a1"
      },
      "execution_count": 7,
      "outputs": [
        {
          "output_type": "execute_result",
          "data": {
            "text/plain": [
              "(6234, 12)"
            ]
          },
          "metadata": {},
          "execution_count": 7
        }
      ]
    },
    {
      "cell_type": "code",
      "source": [
        "netflix.columns"
      ],
      "metadata": {
        "colab": {
          "base_uri": "https://localhost:8080/"
        },
        "id": "aEDeDx9kpRI5",
        "outputId": "116fe063-2884-4f46-874d-76292c22472f"
      },
      "execution_count": 8,
      "outputs": [
        {
          "output_type": "execute_result",
          "data": {
            "text/plain": [
              "Index(['show_id', 'type', 'title', 'director', 'cast', 'country', 'date_added',\n",
              "       'release_year', 'rating', 'duration', 'listed_in', 'description'],\n",
              "      dtype='object')"
            ]
          },
          "metadata": {},
          "execution_count": 8
        }
      ]
    },
    {
      "cell_type": "code",
      "source": [
        "netflix.info()"
      ],
      "metadata": {
        "colab": {
          "base_uri": "https://localhost:8080/"
        },
        "id": "0AyXfdblpU4o",
        "outputId": "6c9ec983-40b8-4ade-a2f4-65318bd40cfa"
      },
      "execution_count": 9,
      "outputs": [
        {
          "output_type": "stream",
          "name": "stdout",
          "text": [
            "<class 'pandas.core.frame.DataFrame'>\n",
            "RangeIndex: 6234 entries, 0 to 6233\n",
            "Data columns (total 12 columns):\n",
            " #   Column        Non-Null Count  Dtype \n",
            "---  ------        --------------  ----- \n",
            " 0   show_id       6234 non-null   int64 \n",
            " 1   type          6234 non-null   object\n",
            " 2   title         6234 non-null   object\n",
            " 3   director      4265 non-null   object\n",
            " 4   cast          5664 non-null   object\n",
            " 5   country       5758 non-null   object\n",
            " 6   date_added    6223 non-null   object\n",
            " 7   release_year  6234 non-null   int64 \n",
            " 8   rating        6224 non-null   object\n",
            " 9   duration      6234 non-null   object\n",
            " 10  listed_in     6234 non-null   object\n",
            " 11  description   6234 non-null   object\n",
            "dtypes: int64(2), object(10)\n",
            "memory usage: 584.6+ KB\n"
          ]
        }
      ]
    },
    {
      "cell_type": "code",
      "source": [
        "netflix.describe()"
      ],
      "metadata": {
        "colab": {
          "base_uri": "https://localhost:8080/",
          "height": 300
        },
        "id": "AFJycb5ZpaP2",
        "outputId": "9cd15a2e-6d75-4752-b348-6c97b37c357a"
      },
      "execution_count": 10,
      "outputs": [
        {
          "output_type": "execute_result",
          "data": {
            "text/plain": [
              "            show_id  release_year\n",
              "count  6.234000e+03    6234.00000\n",
              "mean   7.670368e+07    2013.35932\n",
              "std    1.094296e+07       8.81162\n",
              "min    2.477470e+05    1925.00000\n",
              "25%    8.003580e+07    2013.00000\n",
              "50%    8.016337e+07    2016.00000\n",
              "75%    8.024489e+07    2018.00000\n",
              "max    8.123573e+07    2020.00000"
            ],
            "text/html": [
              "\n",
              "  <div id=\"df-862860a3-5ba3-4b13-ac3d-99614d421d0b\">\n",
              "    <div class=\"colab-df-container\">\n",
              "      <div>\n",
              "<style scoped>\n",
              "    .dataframe tbody tr th:only-of-type {\n",
              "        vertical-align: middle;\n",
              "    }\n",
              "\n",
              "    .dataframe tbody tr th {\n",
              "        vertical-align: top;\n",
              "    }\n",
              "\n",
              "    .dataframe thead th {\n",
              "        text-align: right;\n",
              "    }\n",
              "</style>\n",
              "<table border=\"1\" class=\"dataframe\">\n",
              "  <thead>\n",
              "    <tr style=\"text-align: right;\">\n",
              "      <th></th>\n",
              "      <th>show_id</th>\n",
              "      <th>release_year</th>\n",
              "    </tr>\n",
              "  </thead>\n",
              "  <tbody>\n",
              "    <tr>\n",
              "      <th>count</th>\n",
              "      <td>6.234000e+03</td>\n",
              "      <td>6234.00000</td>\n",
              "    </tr>\n",
              "    <tr>\n",
              "      <th>mean</th>\n",
              "      <td>7.670368e+07</td>\n",
              "      <td>2013.35932</td>\n",
              "    </tr>\n",
              "    <tr>\n",
              "      <th>std</th>\n",
              "      <td>1.094296e+07</td>\n",
              "      <td>8.81162</td>\n",
              "    </tr>\n",
              "    <tr>\n",
              "      <th>min</th>\n",
              "      <td>2.477470e+05</td>\n",
              "      <td>1925.00000</td>\n",
              "    </tr>\n",
              "    <tr>\n",
              "      <th>25%</th>\n",
              "      <td>8.003580e+07</td>\n",
              "      <td>2013.00000</td>\n",
              "    </tr>\n",
              "    <tr>\n",
              "      <th>50%</th>\n",
              "      <td>8.016337e+07</td>\n",
              "      <td>2016.00000</td>\n",
              "    </tr>\n",
              "    <tr>\n",
              "      <th>75%</th>\n",
              "      <td>8.024489e+07</td>\n",
              "      <td>2018.00000</td>\n",
              "    </tr>\n",
              "    <tr>\n",
              "      <th>max</th>\n",
              "      <td>8.123573e+07</td>\n",
              "      <td>2020.00000</td>\n",
              "    </tr>\n",
              "  </tbody>\n",
              "</table>\n",
              "</div>\n",
              "      <button class=\"colab-df-convert\" onclick=\"convertToInteractive('df-862860a3-5ba3-4b13-ac3d-99614d421d0b')\"\n",
              "              title=\"Convert this dataframe to an interactive table.\"\n",
              "              style=\"display:none;\">\n",
              "        \n",
              "  <svg xmlns=\"http://www.w3.org/2000/svg\" height=\"24px\"viewBox=\"0 0 24 24\"\n",
              "       width=\"24px\">\n",
              "    <path d=\"M0 0h24v24H0V0z\" fill=\"none\"/>\n",
              "    <path d=\"M18.56 5.44l.94 2.06.94-2.06 2.06-.94-2.06-.94-.94-2.06-.94 2.06-2.06.94zm-11 1L8.5 8.5l.94-2.06 2.06-.94-2.06-.94L8.5 2.5l-.94 2.06-2.06.94zm10 10l.94 2.06.94-2.06 2.06-.94-2.06-.94-.94-2.06-.94 2.06-2.06.94z\"/><path d=\"M17.41 7.96l-1.37-1.37c-.4-.4-.92-.59-1.43-.59-.52 0-1.04.2-1.43.59L10.3 9.45l-7.72 7.72c-.78.78-.78 2.05 0 2.83L4 21.41c.39.39.9.59 1.41.59.51 0 1.02-.2 1.41-.59l7.78-7.78 2.81-2.81c.8-.78.8-2.07 0-2.86zM5.41 20L4 18.59l7.72-7.72 1.47 1.35L5.41 20z\"/>\n",
              "  </svg>\n",
              "      </button>\n",
              "      \n",
              "  <style>\n",
              "    .colab-df-container {\n",
              "      display:flex;\n",
              "      flex-wrap:wrap;\n",
              "      gap: 12px;\n",
              "    }\n",
              "\n",
              "    .colab-df-convert {\n",
              "      background-color: #E8F0FE;\n",
              "      border: none;\n",
              "      border-radius: 50%;\n",
              "      cursor: pointer;\n",
              "      display: none;\n",
              "      fill: #1967D2;\n",
              "      height: 32px;\n",
              "      padding: 0 0 0 0;\n",
              "      width: 32px;\n",
              "    }\n",
              "\n",
              "    .colab-df-convert:hover {\n",
              "      background-color: #E2EBFA;\n",
              "      box-shadow: 0px 1px 2px rgba(60, 64, 67, 0.3), 0px 1px 3px 1px rgba(60, 64, 67, 0.15);\n",
              "      fill: #174EA6;\n",
              "    }\n",
              "\n",
              "    [theme=dark] .colab-df-convert {\n",
              "      background-color: #3B4455;\n",
              "      fill: #D2E3FC;\n",
              "    }\n",
              "\n",
              "    [theme=dark] .colab-df-convert:hover {\n",
              "      background-color: #434B5C;\n",
              "      box-shadow: 0px 1px 3px 1px rgba(0, 0, 0, 0.15);\n",
              "      filter: drop-shadow(0px 1px 2px rgba(0, 0, 0, 0.3));\n",
              "      fill: #FFFFFF;\n",
              "    }\n",
              "  </style>\n",
              "\n",
              "      <script>\n",
              "        const buttonEl =\n",
              "          document.querySelector('#df-862860a3-5ba3-4b13-ac3d-99614d421d0b button.colab-df-convert');\n",
              "        buttonEl.style.display =\n",
              "          google.colab.kernel.accessAllowed ? 'block' : 'none';\n",
              "\n",
              "        async function convertToInteractive(key) {\n",
              "          const element = document.querySelector('#df-862860a3-5ba3-4b13-ac3d-99614d421d0b');\n",
              "          const dataTable =\n",
              "            await google.colab.kernel.invokeFunction('convertToInteractive',\n",
              "                                                     [key], {});\n",
              "          if (!dataTable) return;\n",
              "\n",
              "          const docLinkHtml = 'Like what you see? Visit the ' +\n",
              "            '<a target=\"_blank\" href=https://colab.research.google.com/notebooks/data_table.ipynb>data table notebook</a>'\n",
              "            + ' to learn more about interactive tables.';\n",
              "          element.innerHTML = '';\n",
              "          dataTable['output_type'] = 'display_data';\n",
              "          await google.colab.output.renderOutput(dataTable, element);\n",
              "          const docLink = document.createElement('div');\n",
              "          docLink.innerHTML = docLinkHtml;\n",
              "          element.appendChild(docLink);\n",
              "        }\n",
              "      </script>\n",
              "    </div>\n",
              "  </div>\n",
              "  "
            ]
          },
          "metadata": {},
          "execution_count": 10
        }
      ]
    },
    {
      "cell_type": "code",
      "source": [
        "netflix.isnull().sum()\n",
        "netflix.dropna(how='any', inplace=True)\n",
        "netflix.info()"
      ],
      "metadata": {
        "colab": {
          "base_uri": "https://localhost:8080/"
        },
        "id": "kstUgRYqpgGQ",
        "outputId": "7b7a0844-69a9-411f-8487-2d24f7c9c3b2"
      },
      "execution_count": 11,
      "outputs": [
        {
          "output_type": "stream",
          "name": "stdout",
          "text": [
            "<class 'pandas.core.frame.DataFrame'>\n",
            "Int64Index: 3774 entries, 0 to 6213\n",
            "Data columns (total 12 columns):\n",
            " #   Column        Non-Null Count  Dtype \n",
            "---  ------        --------------  ----- \n",
            " 0   show_id       3774 non-null   int64 \n",
            " 1   type          3774 non-null   object\n",
            " 2   title         3774 non-null   object\n",
            " 3   director      3774 non-null   object\n",
            " 4   cast          3774 non-null   object\n",
            " 5   country       3774 non-null   object\n",
            " 6   date_added    3774 non-null   object\n",
            " 7   release_year  3774 non-null   int64 \n",
            " 8   rating        3774 non-null   object\n",
            " 9   duration      3774 non-null   object\n",
            " 10  listed_in     3774 non-null   object\n",
            " 11  description   3774 non-null   object\n",
            "dtypes: int64(2), object(10)\n",
            "memory usage: 383.3+ KB\n"
          ]
        }
      ]
    },
    {
      "cell_type": "code",
      "source": [
        "netflix.isnull().sum()"
      ],
      "metadata": {
        "colab": {
          "base_uri": "https://localhost:8080/"
        },
        "id": "u1_4OyXspsVt",
        "outputId": "89b2a9b9-fb6e-48d1-e8c3-f9181270b931"
      },
      "execution_count": 12,
      "outputs": [
        {
          "output_type": "execute_result",
          "data": {
            "text/plain": [
              "show_id         0\n",
              "type            0\n",
              "title           0\n",
              "director        0\n",
              "cast            0\n",
              "country         0\n",
              "date_added      0\n",
              "release_year    0\n",
              "rating          0\n",
              "duration        0\n",
              "listed_in       0\n",
              "description     0\n",
              "dtype: int64"
            ]
          },
          "metadata": {},
          "execution_count": 12
        }
      ]
    },
    {
      "cell_type": "code",
      "source": [
        "netflix.duplicated().sum()"
      ],
      "metadata": {
        "colab": {
          "base_uri": "https://localhost:8080/"
        },
        "id": "aWgZnsWGwiFG",
        "outputId": "f51381d0-a602-4bc4-ef42-ef6ad07f7212"
      },
      "execution_count": 13,
      "outputs": [
        {
          "output_type": "execute_result",
          "data": {
            "text/plain": [
              "0"
            ]
          },
          "metadata": {},
          "execution_count": 13
        }
      ]
    },
    {
      "cell_type": "markdown",
      "source": [
        "CORRELATION OF DATASET"
      ],
      "metadata": {
        "id": "8eZvz8xNqbeh"
      }
    },
    {
      "cell_type": "code",
      "source": [
        "corr = netflix.corr()\n",
        "plt.figure(figsize=(10,5))\n",
        "sns.heatmap(corr, cmap= 'Accent',annot=True)"
      ],
      "metadata": {
        "colab": {
          "base_uri": "https://localhost:8080/",
          "height": 343
        },
        "id": "kLGLxC4cqXCc",
        "outputId": "5a3053d3-8ac0-4962-edb6-5d47766d56c6"
      },
      "execution_count": 14,
      "outputs": [
        {
          "output_type": "execute_result",
          "data": {
            "text/plain": [
              "<matplotlib.axes._subplots.AxesSubplot at 0x7fe5eda95850>"
            ]
          },
          "metadata": {},
          "execution_count": 14
        },
        {
          "output_type": "display_data",
          "data": {
            "text/plain": [
              "<Figure size 720x360 with 2 Axes>"
            ],
            "image/png": "[encoded data removed]"
          },
          "metadata": {
            "needs_background": "light"
          }
        }
      ]
    },
    {
      "cell_type": "markdown",
      "source": [
        "Let's have a look at ratings"
      ],
      "metadata": {
        "id": "auMXpQTgzyz1"
      }
    },
    {
      "cell_type": "code",
      "source": [
        " netflix['rating'].value_counts()"
      ],
      "metadata": {
        "colab": {
          "base_uri": "https://localhost:8080/"
        },
        "id": "IlryInNEzziW",
        "outputId": "00955cee-0f03-43e2-ac89-dcabd63837d5"
      },
      "execution_count": 15,
      "outputs": [
        {
          "output_type": "execute_result",
          "data": {
            "text/plain": [
              "TV-MA       1189\n",
              "TV-14        917\n",
              "R            501\n",
              "TV-PG        358\n",
              "PG-13        278\n",
              "PG           176\n",
              "NR           175\n",
              "TV-G          54\n",
              "TV-Y7         48\n",
              "G             35\n",
              "TV-Y          24\n",
              "TV-Y7-FV      11\n",
              "UR             7\n",
              "NC-17          1\n",
              "Name: rating, dtype: int64"
            ]
          },
          "metadata": {},
          "execution_count": 15
        }
      ]
    },
    {
      "cell_type": "code",
      "source": [
        "barChart=px.bar(netflix,x='rating', color = 'rating', title='Count of Ratings by Movie and TV Shows')\n",
        "barChart.update_traces(dict(marker_line_width=0))\n",
        "barChart.show()"
      ],
      "metadata": {
        "id": "U-o5mXZ_qnZS",
        "colab": {
          "base_uri": "https://localhost:8080/",
          "height": 542
        },
        "outputId": "343ac319-5afd-4521-ffb8-df5b676b85c3"
      },
      "execution_count": 16,
      "outputs": [
        {
          "output_type": "display_data",
          "data": {
            "text/html": [
              "<html>\n",
              "<head><meta charset=\"utf-8\" /></head>\n",
              "<body>\n",
              "    <div>            <script src=\"https://cdnjs.cloudflare.com/ajax/libs/mathjax/2.7.5/MathJax.js?config=TeX-AMS-MML_SVG\"></script><script type=\"text/javascript\">if (window.MathJax) {MathJax.Hub.Config({SVG: {font: \"STIX-Web\"}});}</script>                <script type=\"text/javascript\">window.PlotlyConfig = {MathJaxConfig: 'local'};</script>\n",
              "        <script src=\"https://cdn.plot.ly/plotly-2.8.3.min.js\"></script>                <div id=\"47f1fe2f-6c57-4b75-a733-728d41663a26\" class=\"plotly-graph-div\" style=\"height:525px; width:100%;\"></div>            <script type=\"text/javascript\">                                    window.PLOTLYENV=window.PLOTLYENV || {};                                    if (document.getElementById(\"47f1fe2f-6c57-4b75-a733-728d41663a26\")) {                    Plotly.newPlot(                        \"47f1fe2f-6c57-4b75-a733-728d41663a26\",                        [{\"alignmentgroup\":\"True\",\"hovertemplate\":\"rating=%{x}<br>count=%{y}<extra></extra>\",\"legendgroup\":\"TV-PG\",\"marker\":{\"color\":\"#636efa\",\"pattern\":{\"shape\":\"\"},\"line\":{\"width\":0}},\"name\":\"TV-PG\",\"offsetgroup\":\"TV-PG\",\"orientation\":\"v\",\"showlegend\":true,\"textposition\":\"auto\",\"x\":[\"TV-PG\",\"TV-PG\",\"TV-PG\",\"TV-PG\",\"TV-PG\",\"TV-PG\",\"TV-PG\",\"TV-PG\",\"TV-PG\",\"TV-PG\",\"TV-PG\",\"TV-PG\",\"TV-PG\",\"TV-PG\",\"TV-PG\",\"TV-PG\",\"TV-PG\",\"TV-PG\",\"TV-PG\",\"TV-PG\",\"TV-PG\",\"TV-PG\",\"TV-PG\",\"TV-PG\",\"TV-PG\",\"TV-PG\",\"TV-PG\",\"TV-PG\",\"TV-PG\",\"TV-PG\",\"TV-PG\",\"TV-PG\",\"TV-PG\",\"TV-PG\",\"TV-PG\",\"TV-PG\",\"TV-PG\",\"TV-PG\",\"TV-PG\",\"TV-PG\",\"TV-PG\",\"TV-PG\",\"TV-PG\",\"TV-PG\",\"TV-PG\",\"TV-PG\",\"TV-PG\",\"TV-PG\",\"TV-PG\",\"TV-PG\",\"TV-PG\",\"TV-PG\",\"TV-PG\",\"TV-PG\",\"TV-PG\",\"TV-PG\",\"TV-PG\",\"TV-PG\",\"TV-PG\",\"TV-PG\",\"TV-PG\",\"TV-PG\",\"TV-PG\",\"TV-PG\",\"TV-PG\",\"TV-PG\",\"TV-PG\",\"TV-PG\",\"TV-PG\",\"TV-PG\",\"TV-PG\",\"TV-PG\",\"TV-PG\",\"TV-PG\",\"TV-PG\",\"TV-PG\",\"TV-PG\",\"TV-PG\",\"TV-PG\",\"TV-PG\",\"TV-PG\",\"TV-PG\",\"TV-PG\",\"TV-PG\",\"TV-PG\",\"TV-PG\",\"TV-PG\",\"TV-PG\",\"TV-PG\",\"TV-PG\",\"TV-PG\",\"TV-PG\",\"TV-PG\",\"TV-PG\",\"TV-PG\",\"TV-PG\",\"TV-PG\",\"TV-PG\",\"TV-PG\",\"TV-PG\",\"TV-PG\",\"TV-PG\",\"TV-PG\",\"TV-PG\",\"TV-PG\",\"TV-PG\",\"TV-PG\",\"TV-PG\",\"TV-PG\",\"TV-PG\",\"TV-PG\",\"TV-PG\",\"TV-PG\",\"TV-PG\",\"TV-PG\",\"TV-PG\",\"TV-PG\",\"TV-PG\",\"TV-PG\",\"TV-PG\",\"TV-PG\",\"TV-PG\",\"TV-PG\",\"TV-PG\",\"TV-PG\",\"TV-PG\",\"TV-PG\",\"TV-PG\",\"TV-PG\",\"TV-PG\",\"TV-PG\",\"TV-PG\",\"TV-PG\",\"TV-PG\",\"TV-PG\",\"TV-PG\",\"TV-PG\",\"TV-PG\",\"TV-PG\",\"TV-PG\",\"TV-PG\",\"TV-PG\",\"TV-PG\",\"TV-PG\",\"TV-PG\",\"TV-PG\",\"TV-PG\",\"TV-PG\",\"TV-PG\",\"TV-PG\",\"TV-PG\",\"TV-PG\",\"TV-PG\",\"TV-PG\",\"TV-PG\",\"TV-PG\",\"TV-PG\",\"TV-PG\",\"TV-PG\",\"TV-PG\",\"TV-PG\",\"TV-PG\",\"TV-PG\",\"TV-PG\",\"TV-PG\",\"TV-PG\",\"TV-PG\",\"TV-PG\",\"TV-PG\",\"TV-PG\",\"TV-PG\",\"TV-PG\",\"TV-PG\",\"TV-PG\",\"TV-PG\",\"TV-PG\",\"TV-PG\",\"TV-PG\",\"TV-PG\",\"TV-PG\",\"TV-PG\",\"TV-PG\",\"TV-PG\",\"TV-PG\",\"TV-PG\",\"TV-PG\",\"TV-PG\",\"TV-PG\",\"TV-PG\",\"TV-PG\",\"TV-PG\",\"TV-PG\",\"TV-PG\",\"TV-PG\",\"TV-PG\",\"TV-PG\",\"TV-PG\",\"TV-PG\",\"TV-PG\",\"TV-PG\",\"TV-PG\",\"TV-PG\",\"TV-PG\",\"TV-PG\",\"TV-PG\",\"TV-PG\",\"TV-PG\",\"TV-PG\",\"TV-PG\",\"TV-PG\",\"TV-PG\",\"TV-PG\",\"TV-PG\",\"TV-PG\",\"TV-PG\",\"TV-PG\",\"TV-PG\",\"TV-PG\",\"TV-PG\",\"TV-PG\",\"TV-PG\",\"TV-PG\",\"TV-PG\",\"TV-PG\",\"TV-PG\",\"TV-PG\",\"TV-PG\",\"TV-PG\",\"TV-PG\",\"TV-PG\",\"TV-PG\",\"TV-PG\",\"TV-PG\",\"TV-PG\",\"TV-PG\",\"TV-PG\",\"TV-PG\",\"TV-PG\",\"TV-PG\",\"TV-PG\",\"TV-PG\",\"TV-PG\",\"TV-PG\",\"TV-PG\",\"TV-PG\",\"TV-PG\",\"TV-PG\",\"TV-PG\",\"TV-PG\",\"TV-PG\",\"TV-PG\",\"TV-PG\",\"TV-PG\",\"TV-PG\",\"TV-PG\",\"TV-PG\",\"TV-PG\",\"TV-PG\",\"TV-PG\",\"TV-PG\",\"TV-PG\",\"TV-PG\",\"TV-PG\",\"TV-PG\",\"TV-PG\",\"TV-PG\",\"TV-PG\",\"TV-PG\",\"TV-PG\",\"TV-PG\",\"TV-PG\",\"TV-PG\",\"TV-PG\",\"TV-PG\",\"TV-PG\",\"TV-PG\",\"TV-PG\",\"TV-PG\",\"TV-PG\",\"TV-PG\",\"TV-PG\",\"TV-PG\",\"TV-PG\",\"TV-PG\",\"TV-PG\",\"TV-PG\",\"TV-PG\",\"TV-PG\",\"TV-PG\",\"TV-PG\",\"TV-PG\",\"TV-PG\",\"TV-PG\",\"TV-PG\",\"TV-PG\",\"TV-PG\",\"TV-PG\",\"TV-PG\",\"TV-PG\",\"TV-PG\",\"TV-PG\",\"TV-PG\",\"TV-PG\",\"TV-PG\",\"TV-PG\",\"TV-PG\",\"TV-PG\",\"TV-PG\",\"TV-PG\",\"TV-PG\",\"TV-PG\",\"TV-PG\",\"TV-PG\",\"TV-PG\",\"TV-PG\",\"TV-PG\",\"TV-PG\",\"TV-PG\",\"TV-PG\",\"TV-PG\",\"TV-PG\",\"TV-PG\",\"TV-PG\",\"TV-PG\",\"TV-PG\",\"TV-PG\",\"TV-PG\",\"TV-PG\",\"TV-PG\",\"TV-PG\",\"TV-PG\",\"TV-PG\",\"TV-PG\",\"TV-PG\",\"TV-PG\",\"TV-PG\",\"TV-PG\",\"TV-PG\",\"TV-PG\",\"TV-PG\",\"TV-PG\",\"TV-PG\",\"TV-PG\",\"TV-PG\",\"TV-PG\",\"TV-PG\",\"TV-PG\",\"TV-PG\",\"TV-PG\",\"TV-PG\",\"TV-PG\",\"TV-PG\",\"TV-PG\",\"TV-PG\",\"TV-PG\",\"TV-PG\",\"TV-PG\",\"TV-PG\"],\"xaxis\":\"x\",\"y\":[1,1,1,1,1,1,1,1,1,1,1,1,1,1,1,1,1,1,1,1,1,1,1,1,1,1,1,1,1,1,1,1,1,1,1,1,1,1,1,1,1,1,1,1,1,1,1,1,1,1,1,1,1,1,1,1,1,1,1,1,1,1,1,1,1,1,1,1,1,1,1,1,1,1,1,1,1,1,1,1,1,1,1,1,1,1,1,1,1,1,1,1,1,1,1,1,1,1,1,1,1,1,1,1,1,1,1,1,1,1,1,1,1,1,1,1,1,1,1,1,1,1,1,1,1,1,1,1,1,1,1,1,1,1,1,1,1,1,1,1,1,1,1,1,1,1,1,1,1,1,1,1,1,1,1,1,1,1,1,1,1,1,1,1,1,1,1,1,1,1,1,1,1,1,1,1,1,1,1,1,1,1,1,1,1,1,1,1,1,1,1,1,1,1,1,1,1,1,1,1,1,1,1,1,1,1,1,1,1,1,1,1,1,1,1,1,1,1,1,1,1,1,1,1,1,1,1,1,1,1,1,1,1,1,1,1,1,1,1,1,1,1,1,1,1,1,1,1,1,1,1,1,1,1,1,1,1,1,1,1,1,1,1,1,1,1,1,1,1,1,1,1,1,1,1,1,1,1,1,1,1,1,1,1,1,1,1,1,1,1,1,1,1,1,1,1,1,1,1,1,1,1,1,1,1,1,1,1,1,1,1,1,1,1,1,1,1,1,1,1,1,1,1,1,1,1,1,1,1,1,1,1,1,1,1,1,1,1,1,1,1,1,1,1,1,1,1,1,1,1,1,1,1,1,1,1,1,1],\"yaxis\":\"y\",\"type\":\"bar\"},{\"alignmentgroup\":\"True\",\"hovertemplate\":\"rating=%{x}<br>count=%{y}<extra></extra>\",\"legendgroup\":\"TV-14\",\"marker\":{\"color\":\"#EF553B\",\"pattern\":{\"shape\":\"\"},\"line\":{\"width\":0}},\"name\":\"TV-14\",\"offsetgroup\":\"TV-14\",\"orientation\":\"v\",\"showlegend\":true,\"textposition\":\"auto\",\"x\":[\"TV-14\",\"TV-14\",\"TV-14\",\"TV-14\",\"TV-14\",\"TV-14\",\"TV-14\",\"TV-14\",\"TV-14\",\"TV-14\",\"TV-14\",\"TV-14\",\"TV-14\",\"TV-14\",\"TV-14\",\"TV-14\",\"TV-14\",\"TV-14\",\"TV-14\",\"TV-14\",\"TV-14\",\"TV-14\",\"TV-14\",\"TV-14\",\"TV-14\",\"TV-14\",\"TV-14\",\"TV-14\",\"TV-14\",\"TV-14\",\"TV-14\",\"TV-14\",\"TV-14\",\"TV-14\",\"TV-14\",\"TV-14\",\"TV-14\",\"TV-14\",\"TV-14\",\"TV-14\",\"TV-14\",\"TV-14\",\"TV-14\",\"TV-14\",\"TV-14\",\"TV-14\",\"TV-14\",\"TV-14\",\"TV-14\",\"TV-14\",\"TV-14\",\"TV-14\",\"TV-14\",\"TV-14\",\"TV-14\",\"TV-14\",\"TV-14\",\"TV-14\",\"TV-14\",\"TV-14\",\"TV-14\",\"TV-14\",\"TV-14\",\"TV-14\",\"TV-14\",\"TV-14\",\"TV-14\",\"TV-14\",\"TV-14\",\"TV-14\",\"TV-14\",\"TV-14\",\"TV-14\",\"TV-14\",\"TV-14\",\"TV-14\",\"TV-14\",\"TV-14\",\"TV-14\",\"TV-14\",\"TV-14\",\"TV-14\",\"TV-14\",\"TV-14\",\"TV-14\",\"TV-14\",\"TV-14\",\"TV-14\",\"TV-14\",\"TV-14\",\"TV-14\",\"TV-14\",\"TV-14\",\"TV-14\",\"TV-14\",\"TV-14\",\"TV-14\",\"TV-14\",\"TV-14\",\"TV-14\",\"TV-14\",\"TV-14\",\"TV-14\",\"TV-14\",\"TV-14\",\"TV-14\",\"TV-14\",\"TV-14\",\"TV-14\",\"TV-14\",\"TV-14\",\"TV-14\",\"TV-14\",\"TV-14\",\"TV-14\",\"TV-14\",\"TV-14\",\"TV-14\",\"TV-14\",\"TV-14\",\"TV-14\",\"TV-14\",\"TV-14\",\"TV-14\",\"TV-14\",\"TV-14\",\"TV-14\",\"TV-14\",\"TV-14\",\"TV-14\",\"TV-14\",\"TV-14\",\"TV-14\",\"TV-14\",\"TV-14\",\"TV-14\",\"TV-14\",\"TV-14\",\"TV-14\",\"TV-14\",\"TV-14\",\"TV-14\",\"TV-14\",\"TV-14\",\"TV-14\",\"TV-14\",\"TV-14\",\"TV-14\",\"TV-14\",\"TV-14\",\"TV-14\",\"TV-14\",\"TV-14\",\"TV-14\",\"TV-14\",\"TV-14\",\"TV-14\",\"TV-14\",\"TV-14\",\"TV-14\",\"TV-14\",\"TV-14\",\"TV-14\",\"TV-14\",\"TV-14\",\"TV-14\",\"TV-14\",\"TV-14\",\"TV-14\",\"TV-14\",\"TV-14\",\"TV-14\",\"TV-14\",\"TV-14\",\"TV-14\",\"TV-14\",\"TV-14\",\"TV-14\",\"TV-14\",\"TV-14\",\"TV-14\",\"TV-14\",\"TV-14\",\"TV-14\",\"TV-14\",\"TV-14\",\"TV-14\",\"TV-14\",\"TV-14\",\"TV-14\",\"TV-14\",\"TV-14\",\"TV-14\",\"TV-14\",\"TV-14\",\"TV-14\",\"TV-14\",\"TV-14\",\"TV-14\",\"TV-14\",\"TV-14\",\"TV-14\",\"TV-14\",\"TV-14\",\"TV-14\",\"TV-14\",\"TV-14\",\"TV-14\",\"TV-14\",\"TV-14\",\"TV-14\",\"TV-14\",\"TV-14\",\"TV-14\",\"TV-14\",\"TV-14\",\"TV-14\",\"TV-14\",\"TV-14\",\"TV-14\",\"TV-14\",\"TV-14\",\"TV-14\",\"TV-14\",\"TV-14\",\"TV-14\",\"TV-14\",\"TV-14\",\"TV-14\",\"TV-14\",\"TV-14\",\"TV-14\",\"TV-14\",\"TV-14\",\"TV-14\",\"TV-14\",\"TV-14\",\"TV-14\",\"TV-14\",\"TV-14\",\"TV-14\",\"TV-14\",\"TV-14\",\"TV-14\",\"TV-14\",\"TV-14\",\"TV-14\",\"TV-14\",\"TV-14\",\"TV-14\",\"TV-14\",\"TV-14\",\"TV-14\",\"TV-14\",\"TV-14\",\"TV-14\",\"TV-14\",\"TV-14\",\"TV-14\",\"TV-14\",\"TV-14\",\"TV-14\",\"TV-14\",\"TV-14\",\"TV-14\",\"TV-14\",\"TV-14\",\"TV-14\",\"TV-14\",\"TV-14\",\"TV-14\",\"TV-14\",\"TV-14\",\"TV-14\",\"TV-14\",\"TV-14\",\"TV-14\",\"TV-14\",\"TV-14\",\"TV-14\",\"TV-14\",\"TV-14\",\"TV-14\",\"TV-14\",\"TV-14\",\"TV-14\",\"TV-14\",\"TV-14\",\"TV-14\",\"TV-14\",\"TV-14\",\"TV-14\",\"TV-14\",\"TV-14\",\"TV-14\",\"TV-14\",\"TV-14\",\"TV-14\",\"TV-14\",\"TV-14\",\"TV-14\",\"TV-14\",\"TV-14\",\"TV-14\",\"TV-14\",\"TV-14\",\"TV-14\",\"TV-14\",\"TV-14\",\"TV-14\",\"TV-14\",\"TV-14\",\"TV-14\",\"TV-14\",\"TV-14\",\"TV-14\",\"TV-14\",\"TV-14\",\"TV-14\",\"TV-14\",\"TV-14\",\"TV-14\",\"TV-14\",\"TV-14\",\"TV-14\",\"TV-14\",\"TV-14\",\"TV-14\",\"TV-14\",\"TV-14\",\"TV-14\",\"TV-14\",\"TV-14\",\"TV-14\",\"TV-14\",\"TV-14\",\"TV-14\",\"TV-14\",\"TV-14\",\"TV-14\",\"TV-14\",\"TV-14\",\"TV-14\",\"TV-14\",\"TV-14\",\"TV-14\",\"TV-14\",\"TV-14\",\"TV-14\",\"TV-14\",\"TV-14\",\"TV-14\",\"TV-14\",\"TV-14\",\"TV-14\",\"TV-14\",\"TV-14\",\"TV-14\",\"TV-14\",\"TV-14\",\"TV-14\",\"TV-14\",\"TV-14\",\"TV-14\",\"TV-14\",\"TV-14\",\"TV-14\",\"TV-14\",\"TV-14\",\"TV-14\",\"TV-14\",\"TV-14\",\"TV-14\",\"TV-14\",\"TV-14\",\"TV-14\",\"TV-14\",\"TV-14\",\"TV-14\",\"TV-14\",\"TV-14\",\"TV-14\",\"TV-14\",\"TV-14\",\"TV-14\",\"TV-14\",\"TV-14\",\"TV-14\",\"TV-14\",\"TV-14\",\"TV-14\",\"TV-14\",\"TV-14\",\"TV-14\",\"TV-14\",\"TV-14\",\"TV-14\",\"TV-14\",\"TV-14\",\"TV-14\",\"TV-14\",\"TV-14\",\"TV-14\",\"TV-14\",\"TV-14\",\"TV-14\",\"TV-14\",\"TV-14\",\"TV-14\",\"TV-14\",\"TV-14\",\"TV-14\",\"TV-14\",\"TV-14\",\"TV-14\",\"TV-14\",\"TV-14\",\"TV-14\",\"TV-14\",\"TV-14\",\"TV-14\",\"TV-14\",\"TV-14\",\"TV-14\",\"TV-14\",\"TV-14\",\"TV-14\",\"TV-14\",\"TV-14\",\"TV-14\",\"TV-14\",\"TV-14\",\"TV-14\",\"TV-14\",\"TV-14\",\"TV-14\",\"TV-14\",\"TV-14\",\"TV-14\",\"TV-14\",\"TV-14\",\"TV-14\",\"TV-14\",\"TV-14\",\"TV-14\",\"TV-14\",\"TV-14\",\"TV-14\",\"TV-14\",\"TV-14\",\"TV-14\",\"TV-14\",\"TV-14\",\"TV-14\",\"TV-14\",\"TV-14\",\"TV-14\",\"TV-14\",\"TV-14\",\"TV-14\",\"TV-14\",\"TV-14\",\"TV-14\",\"TV-14\",\"TV-14\",\"TV-14\",\"TV-14\",\"TV-14\",\"TV-14\",\"TV-14\",\"TV-14\",\"TV-14\",\"TV-14\",\"TV-14\",\"TV-14\",\"TV-14\",\"TV-14\",\"TV-14\",\"TV-14\",\"TV-14\",\"TV-14\",\"TV-14\",\"TV-14\",\"TV-14\",\"TV-14\",\"TV-14\",\"TV-14\",\"TV-14\",\"TV-14\",\"TV-14\",\"TV-14\",\"TV-14\",\"TV-14\",\"TV-14\",\"TV-14\",\"TV-14\",\"TV-14\",\"TV-14\",\"TV-14\",\"TV-14\",\"TV-14\",\"TV-14\",\"TV-14\",\"TV-14\",\"TV-14\",\"TV-14\",\"TV-14\",\"TV-14\",\"TV-14\",\"TV-14\",\"TV-14\",\"TV-14\",\"TV-14\",\"TV-14\",\"TV-14\",\"TV-14\",\"TV-14\",\"TV-14\",\"TV-14\",\"TV-14\",\"TV-14\",\"TV-14\",\"TV-14\",\"TV-14\",\"TV-14\",\"TV-14\",\"TV-14\",\"TV-14\",\"TV-14\",\"TV-14\",\"TV-14\",\"TV-14\",\"TV-14\",\"TV-14\",\"TV-14\",\"TV-14\",\"TV-14\",\"TV-14\",\"TV-14\",\"TV-14\",\"TV-14\",\"TV-14\",\"TV-14\",\"TV-14\",\"TV-14\",\"TV-14\",\"TV-14\",\"TV-14\",\"TV-14\",\"TV-14\",\"TV-14\",\"TV-14\",\"TV-14\",\"TV-14\",\"TV-14\",\"TV-14\",\"TV-14\",\"TV-14\",\"TV-14\",\"TV-14\",\"TV-14\",\"TV-14\",\"TV-14\",\"TV-14\",\"TV-14\",\"TV-14\",\"TV-14\",\"TV-14\",\"TV-14\",\"TV-14\",\"TV-14\",\"TV-14\",\"TV-14\",\"TV-14\",\"TV-14\",\"TV-14\",\"TV-14\",\"TV-14\",\"TV-14\",\"TV-14\",\"TV-14\",\"TV-14\",\"TV-14\",\"TV-14\",\"TV-14\",\"TV-14\",\"TV-14\",\"TV-14\",\"TV-14\",\"TV-14\",\"TV-14\",\"TV-14\",\"TV-14\",\"TV-14\",\"TV-14\",\"TV-14\",\"TV-14\",\"TV-14\",\"TV-14\",\"TV-14\",\"TV-14\",\"TV-14\",\"TV-14\",\"TV-14\",\"TV-14\",\"TV-14\",\"TV-14\",\"TV-14\",\"TV-14\",\"TV-14\",\"TV-14\",\"TV-14\",\"TV-14\",\"TV-14\",\"TV-14\",\"TV-14\",\"TV-14\",\"TV-14\",\"TV-14\",\"TV-14\",\"TV-14\",\"TV-14\",\"TV-14\",\"TV-14\",\"TV-14\",\"TV-14\",\"TV-14\",\"TV-14\",\"TV-14\",\"TV-14\",\"TV-14\",\"TV-14\",\"TV-14\",\"TV-14\",\"TV-14\",\"TV-14\",\"TV-14\",\"TV-14\",\"TV-14\",\"TV-14\",\"TV-14\",\"TV-14\",\"TV-14\",\"TV-14\",\"TV-14\",\"TV-14\",\"TV-14\",\"TV-14\",\"TV-14\",\"TV-14\",\"TV-14\",\"TV-14\",\"TV-14\",\"TV-14\",\"TV-14\",\"TV-14\",\"TV-14\",\"TV-14\",\"TV-14\",\"TV-14\",\"TV-14\",\"TV-14\",\"TV-14\",\"TV-14\",\"TV-14\",\"TV-14\",\"TV-14\",\"TV-14\",\"TV-14\",\"TV-14\",\"TV-14\",\"TV-14\",\"TV-14\",\"TV-14\",\"TV-14\",\"TV-14\",\"TV-14\",\"TV-14\",\"TV-14\",\"TV-14\",\"TV-14\",\"TV-14\",\"TV-14\",\"TV-14\",\"TV-14\",\"TV-14\",\"TV-14\",\"TV-14\",\"TV-14\",\"TV-14\",\"TV-14\",\"TV-14\",\"TV-14\",\"TV-14\",\"TV-14\",\"TV-14\",\"TV-14\",\"TV-14\",\"TV-14\",\"TV-14\",\"TV-14\",\"TV-14\",\"TV-14\",\"TV-14\",\"TV-14\",\"TV-14\",\"TV-14\",\"TV-14\",\"TV-14\",\"TV-14\",\"TV-14\",\"TV-14\",\"TV-14\",\"TV-14\",\"TV-14\",\"TV-14\",\"TV-14\",\"TV-14\",\"TV-14\",\"TV-14\",\"TV-14\",\"TV-14\",\"TV-14\",\"TV-14\",\"TV-14\",\"TV-14\",\"TV-14\",\"TV-14\",\"TV-14\",\"TV-14\",\"TV-14\",\"TV-14\",\"TV-14\",\"TV-14\",\"TV-14\",\"TV-14\",\"TV-14\",\"TV-14\",\"TV-14\",\"TV-14\",\"TV-14\",\"TV-14\",\"TV-14\",\"TV-14\",\"TV-14\",\"TV-14\",\"TV-14\",\"TV-14\",\"TV-14\",\"TV-14\",\"TV-14\",\"TV-14\",\"TV-14\",\"TV-14\",\"TV-14\",\"TV-14\",\"TV-14\",\"TV-14\",\"TV-14\",\"TV-14\",\"TV-14\",\"TV-14\",\"TV-14\",\"TV-14\",\"TV-14\",\"TV-14\",\"TV-14\",\"TV-14\",\"TV-14\",\"TV-14\",\"TV-14\",\"TV-14\",\"TV-14\",\"TV-14\",\"TV-14\",\"TV-14\",\"TV-14\",\"TV-14\",\"TV-14\",\"TV-14\",\"TV-14\",\"TV-14\",\"TV-14\",\"TV-14\",\"TV-14\",\"TV-14\",\"TV-14\",\"TV-14\",\"TV-14\",\"TV-14\",\"TV-14\",\"TV-14\",\"TV-14\",\"TV-14\",\"TV-14\",\"TV-14\",\"TV-14\",\"TV-14\",\"TV-14\",\"TV-14\",\"TV-14\",\"TV-14\",\"TV-14\",\"TV-14\",\"TV-14\",\"TV-14\",\"TV-14\",\"TV-14\",\"TV-14\",\"TV-14\",\"TV-14\",\"TV-14\",\"TV-14\",\"TV-14\",\"TV-14\",\"TV-14\",\"TV-14\",\"TV-14\",\"TV-14\",\"TV-14\",\"TV-14\",\"TV-14\",\"TV-14\",\"TV-14\",\"TV-14\",\"TV-14\",\"TV-14\",\"TV-14\",\"TV-14\",\"TV-14\",\"TV-14\",\"TV-14\",\"TV-14\",\"TV-14\",\"TV-14\",\"TV-14\",\"TV-14\",\"TV-14\",\"TV-14\",\"TV-14\",\"TV-14\",\"TV-14\",\"TV-14\",\"TV-14\",\"TV-14\",\"TV-14\",\"TV-14\",\"TV-14\",\"TV-14\",\"TV-14\",\"TV-14\",\"TV-14\",\"TV-14\",\"TV-14\",\"TV-14\",\"TV-14\",\"TV-14\",\"TV-14\",\"TV-14\",\"TV-14\",\"TV-14\",\"TV-14\",\"TV-14\",\"TV-14\",\"TV-14\",\"TV-14\",\"TV-14\",\"TV-14\",\"TV-14\",\"TV-14\",\"TV-14\",\"TV-14\",\"TV-14\",\"TV-14\",\"TV-14\",\"TV-14\",\"TV-14\",\"TV-14\",\"TV-14\",\"TV-14\",\"TV-14\",\"TV-14\",\"TV-14\",\"TV-14\",\"TV-14\",\"TV-14\",\"TV-14\",\"TV-14\",\"TV-14\",\"TV-14\",\"TV-14\",\"TV-14\",\"TV-14\",\"TV-14\",\"TV-14\",\"TV-14\",\"TV-14\",\"TV-14\",\"TV-14\",\"TV-14\",\"TV-14\",\"TV-14\",\"TV-14\",\"TV-14\",\"TV-14\",\"TV-14\",\"TV-14\",\"TV-14\",\"TV-14\",\"TV-14\",\"TV-14\",\"TV-14\",\"TV-14\",\"TV-14\",\"TV-14\",\"TV-14\",\"TV-14\"],\"xaxis\":\"x\",\"y\":[1,1,1,1,1,1,1,1,1,1,1,1,1,1,1,1,1,1,1,1,1,1,1,1,1,1,1,1,1,1,1,1,1,1,1,1,1,1,1,1,1,1,1,1,1,1,1,1,1,1,1,1,1,1,1,1,1,1,1,1,1,1,1,1,1,1,1,1,1,1,1,1,1,1,1,1,1,1,1,1,1,1,1,1,1,1,1,1,1,1,1,1,1,1,1,1,1,1,1,1,1,1,1,1,1,1,1,1,1,1,1,1,1,1,1,1,1,1,1,1,1,1,1,1,1,1,1,1,1,1,1,1,1,1,1,1,1,1,1,1,1,1,1,1,1,1,1,1,1,1,1,1,1,1,1,1,1,1,1,1,1,1,1,1,1,1,1,1,1,1,1,1,1,1,1,1,1,1,1,1,1,1,1,1,1,1,1,1,1,1,1,1,1,1,1,1,1,1,1,1,1,1,1,1,1,1,1,1,1,1,1,1,1,1,1,1,1,1,1,1,1,1,1,1,1,1,1,1,1,1,1,1,1,1,1,1,1,1,1,1,1,1,1,1,1,1,1,1,1,1,1,1,1,1,1,1,1,1,1,1,1,1,1,1,1,1,1,1,1,1,1,1,1,1,1,1,1,1,1,1,1,1,1,1,1,1,1,1,1,1,1,1,1,1,1,1,1,1,1,1,1,1,1,1,1,1,1,1,1,1,1,1,1,1,1,1,1,1,1,1,1,1,1,1,1,1,1,1,1,1,1,1,1,1,1,1,1,1,1,1,1,1,1,1,1,1,1,1,1,1,1,1,1,1,1,1,1,1,1,1,1,1,1,1,1,1,1,1,1,1,1,1,1,1,1,1,1,1,1,1,1,1,1,1,1,1,1,1,1,1,1,1,1,1,1,1,1,1,1,1,1,1,1,1,1,1,1,1,1,1,1,1,1,1,1,1,1,1,1,1,1,1,1,1,1,1,1,1,1,1,1,1,1,1,1,1,1,1,1,1,1,1,1,1,1,1,1,1,1,1,1,1,1,1,1,1,1,1,1,1,1,1,1,1,1,1,1,1,1,1,1,1,1,1,1,1,1,1,1,1,1,1,1,1,1,1,1,1,1,1,1,1,1,1,1,1,1,1,1,1,1,1,1,1,1,1,1,1,1,1,1,1,1,1,1,1,1,1,1,1,1,1,1,1,1,1,1,1,1,1,1,1,1,1,1,1,1,1,1,1,1,1,1,1,1,1,1,1,1,1,1,1,1,1,1,1,1,1,1,1,1,1,1,1,1,1,1,1,1,1,1,1,1,1,1,1,1,1,1,1,1,1,1,1,1,1,1,1,1,1,1,1,1,1,1,1,1,1,1,1,1,1,1,1,1,1,1,1,1,1,1,1,1,1,1,1,1,1,1,1,1,1,1,1,1,1,1,1,1,1,1,1,1,1,1,1,1,1,1,1,1,1,1,1,1,1,1,1,1,1,1,1,1,1,1,1,1,1,1,1,1,1,1,1,1,1,1,1,1,1,1,1,1,1,1,1,1,1,1,1,1,1,1,1,1,1,1,1,1,1,1,1,1,1,1,1,1,1,1,1,1,1,1,1,1,1,1,1,1,1,1,1,1,1,1,1,1,1,1,1,1,1,1,1,1,1,1,1,1,1,1,1,1,1,1,1,1,1,1,1,1,1,1,1,1,1,1,1,1,1,1,1,1,1,1,1,1,1,1,1,1,1,1,1,1,1,1,1,1,1,1,1,1,1,1,1,1,1,1,1,1,1,1,1,1,1,1,1,1,1,1,1,1,1,1,1,1,1,1,1,1,1,1,1,1,1,1,1,1,1,1,1,1,1,1,1,1,1,1,1,1,1,1,1,1,1,1,1,1,1,1,1,1,1,1,1,1,1,1,1,1,1,1,1,1,1,1,1,1,1,1,1,1,1,1,1,1,1,1,1,1,1,1,1,1,1,1,1,1,1,1,1,1,1,1,1,1,1,1,1,1,1,1,1,1,1,1,1,1,1,1,1,1,1,1,1,1,1,1,1,1,1,1,1,1,1,1,1,1,1,1,1,1,1,1,1,1],\"yaxis\":\"y\",\"type\":\"bar\"},{\"alignmentgroup\":\"True\",\"hovertemplate\":\"rating=%{x}<br>count=%{y}<extra></extra>\",\"legendgroup\":\"R\",\"marker\":{\"color\":\"#00cc96\",\"pattern\":{\"shape\":\"\"},\"line\":{\"width\":0}},\"name\":\"R\",\"offsetgroup\":\"R\",\"orientation\":\"v\",\"showlegend\":true,\"textposition\":\"auto\",\"x\":[\"R\",\"R\",\"R\",\"R\",\"R\",\"R\",\"R\",\"R\",\"R\",\"R\",\"R\",\"R\",\"R\",\"R\",\"R\",\"R\",\"R\",\"R\",\"R\",\"R\",\"R\",\"R\",\"R\",\"R\",\"R\",\"R\",\"R\",\"R\",\"R\",\"R\",\"R\",\"R\",\"R\",\"R\",\"R\",\"R\",\"R\",\"R\",\"R\",\"R\",\"R\",\"R\",\"R\",\"R\",\"R\",\"R\",\"R\",\"R\",\"R\",\"R\",\"R\",\"R\",\"R\",\"R\",\"R\",\"R\",\"R\",\"R\",\"R\",\"R\",\"R\",\"R\",\"R\",\"R\",\"R\",\"R\",\"R\",\"R\",\"R\",\"R\",\"R\",\"R\",\"R\",\"R\",\"R\",\"R\",\"R\",\"R\",\"R\",\"R\",\"R\",\"R\",\"R\",\"R\",\"R\",\"R\",\"R\",\"R\",\"R\",\"R\",\"R\",\"R\",\"R\",\"R\",\"R\",\"R\",\"R\",\"R\",\"R\",\"R\",\"R\",\"R\",\"R\",\"R\",\"R\",\"R\",\"R\",\"R\",\"R\",\"R\",\"R\",\"R\",\"R\",\"R\",\"R\",\"R\",\"R\",\"R\",\"R\",\"R\",\"R\",\"R\",\"R\",\"R\",\"R\",\"R\",\"R\",\"R\",\"R\",\"R\",\"R\",\"R\",\"R\",\"R\",\"R\",\"R\",\"R\",\"R\",\"R\",\"R\",\"R\",\"R\",\"R\",\"R\",\"R\",\"R\",\"R\",\"R\",\"R\",\"R\",\"R\",\"R\",\"R\",\"R\",\"R\",\"R\",\"R\",\"R\",\"R\",\"R\",\"R\",\"R\",\"R\",\"R\",\"R\",\"R\",\"R\",\"R\",\"R\",\"R\",\"R\",\"R\",\"R\",\"R\",\"R\",\"R\",\"R\",\"R\",\"R\",\"R\",\"R\",\"R\",\"R\",\"R\",\"R\",\"R\",\"R\",\"R\",\"R\",\"R\",\"R\",\"R\",\"R\",\"R\",\"R\",\"R\",\"R\",\"R\",\"R\",\"R\",\"R\",\"R\",\"R\",\"R\",\"R\",\"R\",\"R\",\"R\",\"R\",\"R\",\"R\",\"R\",\"R\",\"R\",\"R\",\"R\",\"R\",\"R\",\"R\",\"R\",\"R\",\"R\",\"R\",\"R\",\"R\",\"R\",\"R\",\"R\",\"R\",\"R\",\"R\",\"R\",\"R\",\"R\",\"R\",\"R\",\"R\",\"R\",\"R\",\"R\",\"R\",\"R\",\"R\",\"R\",\"R\",\"R\",\"R\",\"R\",\"R\",\"R\",\"R\",\"R\",\"R\",\"R\",\"R\",\"R\",\"R\",\"R\",\"R\",\"R\",\"R\",\"R\",\"R\",\"R\",\"R\",\"R\",\"R\",\"R\",\"R\",\"R\",\"R\",\"R\",\"R\",\"R\",\"R\",\"R\",\"R\",\"R\",\"R\",\"R\",\"R\",\"R\",\"R\",\"R\",\"R\",\"R\",\"R\",\"R\",\"R\",\"R\",\"R\",\"R\",\"R\",\"R\",\"R\",\"R\",\"R\",\"R\",\"R\",\"R\",\"R\",\"R\",\"R\",\"R\",\"R\",\"R\",\"R\",\"R\",\"R\",\"R\",\"R\",\"R\",\"R\",\"R\",\"R\",\"R\",\"R\",\"R\",\"R\",\"R\",\"R\",\"R\",\"R\",\"R\",\"R\",\"R\",\"R\",\"R\",\"R\",\"R\",\"R\",\"R\",\"R\",\"R\",\"R\",\"R\",\"R\",\"R\",\"R\",\"R\",\"R\",\"R\",\"R\",\"R\",\"R\",\"R\",\"R\",\"R\",\"R\",\"R\",\"R\",\"R\",\"R\",\"R\",\"R\",\"R\",\"R\",\"R\",\"R\",\"R\",\"R\",\"R\",\"R\",\"R\",\"R\",\"R\",\"R\",\"R\",\"R\",\"R\",\"R\",\"R\",\"R\",\"R\",\"R\",\"R\",\"R\",\"R\",\"R\",\"R\",\"R\",\"R\",\"R\",\"R\",\"R\",\"R\",\"R\",\"R\",\"R\",\"R\",\"R\",\"R\",\"R\",\"R\",\"R\",\"R\",\"R\",\"R\",\"R\",\"R\",\"R\",\"R\",\"R\",\"R\",\"R\",\"R\",\"R\",\"R\",\"R\",\"R\",\"R\",\"R\",\"R\",\"R\",\"R\",\"R\",\"R\",\"R\",\"R\",\"R\",\"R\",\"R\",\"R\",\"R\",\"R\",\"R\",\"R\",\"R\",\"R\",\"R\",\"R\",\"R\",\"R\",\"R\",\"R\",\"R\",\"R\",\"R\",\"R\",\"R\",\"R\",\"R\",\"R\",\"R\",\"R\",\"R\",\"R\",\"R\",\"R\",\"R\",\"R\",\"R\",\"R\",\"R\",\"R\",\"R\",\"R\",\"R\",\"R\",\"R\",\"R\",\"R\",\"R\",\"R\",\"R\",\"R\",\"R\",\"R\",\"R\",\"R\",\"R\",\"R\",\"R\",\"R\",\"R\",\"R\",\"R\",\"R\",\"R\",\"R\",\"R\",\"R\",\"R\",\"R\",\"R\",\"R\",\"R\",\"R\",\"R\",\"R\",\"R\",\"R\",\"R\",\"R\",\"R\",\"R\",\"R\",\"R\",\"R\",\"R\",\"R\"],\"xaxis\":\"x\",\"y\":[1,1,1,1,1,1,1,1,1,1,1,1,1,1,1,1,1,1,1,1,1,1,1,1,1,1,1,1,1,1,1,1,1,1,1,1,1,1,1,1,1,1,1,1,1,1,1,1,1,1,1,1,1,1,1,1,1,1,1,1,1,1,1,1,1,1,1,1,1,1,1,1,1,1,1,1,1,1,1,1,1,1,1,1,1,1,1,1,1,1,1,1,1,1,1,1,1,1,1,1,1,1,1,1,1,1,1,1,1,1,1,1,1,1,1,1,1,1,1,1,1,1,1,1,1,1,1,1,1,1,1,1,1,1,1,1,1,1,1,1,1,1,1,1,1,1,1,1,1,1,1,1,1,1,1,1,1,1,1,1,1,1,1,1,1,1,1,1,1,1,1,1,1,1,1,1,1,1,1,1,1,1,1,1,1,1,1,1,1,1,1,1,1,1,1,1,1,1,1,1,1,1,1,1,1,1,1,1,1,1,1,1,1,1,1,1,1,1,1,1,1,1,1,1,1,1,1,1,1,1,1,1,1,1,1,1,1,1,1,1,1,1,1,1,1,1,1,1,1,1,1,1,1,1,1,1,1,1,1,1,1,1,1,1,1,1,1,1,1,1,1,1,1,1,1,1,1,1,1,1,1,1,1,1,1,1,1,1,1,1,1,1,1,1,1,1,1,1,1,1,1,1,1,1,1,1,1,1,1,1,1,1,1,1,1,1,1,1,1,1,1,1,1,1,1,1,1,1,1,1,1,1,1,1,1,1,1,1,1,1,1,1,1,1,1,1,1,1,1,1,1,1,1,1,1,1,1,1,1,1,1,1,1,1,1,1,1,1,1,1,1,1,1,1,1,1,1,1,1,1,1,1,1,1,1,1,1,1,1,1,1,1,1,1,1,1,1,1,1,1,1,1,1,1,1,1,1,1,1,1,1,1,1,1,1,1,1,1,1,1,1,1,1,1,1,1,1,1,1,1,1,1,1,1,1,1,1,1,1,1,1,1,1,1,1,1,1,1,1,1,1,1,1,1,1,1,1,1,1,1,1,1,1,1,1,1,1,1,1,1,1,1,1,1,1,1,1,1,1,1,1,1,1,1,1,1,1,1,1,1,1,1,1,1,1,1,1,1,1,1,1],\"yaxis\":\"y\",\"type\":\"bar\"},{\"alignmentgroup\":\"True\",\"hovertemplate\":\"rating=%{x}<br>count=%{y}<extra></extra>\",\"legendgroup\":\"TV-MA\",\"marker\":{\"color\":\"#ab63fa\",\"pattern\":{\"shape\":\"\"},\"line\":{\"width\":0}},\"name\":\"TV-MA\",\"offsetgroup\":\"TV-MA\",\"orientation\":\"v\",\"showlegend\":true,\"textposition\":\"auto\",\"x\":[\"TV-MA\",\"TV-MA\",\"TV-MA\",\"TV-MA\",\"TV-MA\",\"TV-MA\",\"TV-MA\",\"TV-MA\",\"TV-MA\",\"TV-MA\",\"TV-MA\",\"TV-MA\",\"TV-MA\",\"TV-MA\",\"TV-MA\",\"TV-MA\",\"TV-MA\",\"TV-MA\",\"TV-MA\",\"TV-MA\",\"TV-MA\",\"TV-MA\",\"TV-MA\",\"TV-MA\",\"TV-MA\",\"TV-MA\",\"TV-MA\",\"TV-MA\",\"TV-MA\",\"TV-MA\",\"TV-MA\",\"TV-MA\",\"TV-MA\",\"TV-MA\",\"TV-MA\",\"TV-MA\",\"TV-MA\",\"TV-MA\",\"TV-MA\",\"TV-MA\",\"TV-MA\",\"TV-MA\",\"TV-MA\",\"TV-MA\",\"TV-MA\",\"TV-MA\",\"TV-MA\",\"TV-MA\",\"TV-MA\",\"TV-MA\",\"TV-MA\",\"TV-MA\",\"TV-MA\",\"TV-MA\",\"TV-MA\",\"TV-MA\",\"TV-MA\",\"TV-MA\",\"TV-MA\",\"TV-MA\",\"TV-MA\",\"TV-MA\",\"TV-MA\",\"TV-MA\",\"TV-MA\",\"TV-MA\",\"TV-MA\",\"TV-MA\",\"TV-MA\",\"TV-MA\",\"TV-MA\",\"TV-MA\",\"TV-MA\",\"TV-MA\",\"TV-MA\",\"TV-MA\",\"TV-MA\",\"TV-MA\",\"TV-MA\",\"TV-MA\",\"TV-MA\",\"TV-MA\",\"TV-MA\",\"TV-MA\",\"TV-MA\",\"TV-MA\",\"TV-MA\",\"TV-MA\",\"TV-MA\",\"TV-MA\",\"TV-MA\",\"TV-MA\",\"TV-MA\",\"TV-MA\",\"TV-MA\",\"TV-MA\",\"TV-MA\",\"TV-MA\",\"TV-MA\",\"TV-MA\",\"TV-MA\",\"TV-MA\",\"TV-MA\",\"TV-MA\",\"TV-MA\",\"TV-MA\",\"TV-MA\",\"TV-MA\",\"TV-MA\",\"TV-MA\",\"TV-MA\",\"TV-MA\",\"TV-MA\",\"TV-MA\",\"TV-MA\",\"TV-MA\",\"TV-MA\",\"TV-MA\",\"TV-MA\",\"TV-MA\",\"TV-MA\",\"TV-MA\",\"TV-MA\",\"TV-MA\",\"TV-MA\",\"TV-MA\",\"TV-MA\",\"TV-MA\",\"TV-MA\",\"TV-MA\",\"TV-MA\",\"TV-MA\",\"TV-MA\",\"TV-MA\",\"TV-MA\",\"TV-MA\",\"TV-MA\",\"TV-MA\",\"TV-MA\",\"TV-MA\",\"TV-MA\",\"TV-MA\",\"TV-MA\",\"TV-MA\",\"TV-MA\",\"TV-MA\",\"TV-MA\",\"TV-MA\",\"TV-MA\",\"TV-MA\",\"TV-MA\",\"TV-MA\",\"TV-MA\",\"TV-MA\",\"TV-MA\",\"TV-MA\",\"TV-MA\",\"TV-MA\",\"TV-MA\",\"TV-MA\",\"TV-MA\",\"TV-MA\",\"TV-MA\",\"TV-MA\",\"TV-MA\",\"TV-MA\",\"TV-MA\",\"TV-MA\",\"TV-MA\",\"TV-MA\",\"TV-MA\",\"TV-MA\",\"TV-MA\",\"TV-MA\",\"TV-MA\",\"TV-MA\",\"TV-MA\",\"TV-MA\",\"TV-MA\",\"TV-MA\",\"TV-MA\",\"TV-MA\",\"TV-MA\",\"TV-MA\",\"TV-MA\",\"TV-MA\",\"TV-MA\",\"TV-MA\",\"TV-MA\",\"TV-MA\",\"TV-MA\",\"TV-MA\",\"TV-MA\",\"TV-MA\",\"TV-MA\",\"TV-MA\",\"TV-MA\",\"TV-MA\",\"TV-MA\",\"TV-MA\",\"TV-MA\",\"TV-MA\",\"TV-MA\",\"TV-MA\",\"TV-MA\",\"TV-MA\",\"TV-MA\",\"TV-MA\",\"TV-MA\",\"TV-MA\",\"TV-MA\",\"TV-MA\",\"TV-MA\",\"TV-MA\",\"TV-MA\",\"TV-MA\",\"TV-MA\",\"TV-MA\",\"TV-MA\",\"TV-MA\",\"TV-MA\",\"TV-MA\",\"TV-MA\",\"TV-MA\",\"TV-MA\",\"TV-MA\",\"TV-MA\",\"TV-MA\",\"TV-MA\",\"TV-MA\",\"TV-MA\",\"TV-MA\",\"TV-MA\",\"TV-MA\",\"TV-MA\",\"TV-MA\",\"TV-MA\",\"TV-MA\",\"TV-MA\",\"TV-MA\",\"TV-MA\",\"TV-MA\",\"TV-MA\",\"TV-MA\",\"TV-MA\",\"TV-MA\",\"TV-MA\",\"TV-MA\",\"TV-MA\",\"TV-MA\",\"TV-MA\",\"TV-MA\",\"TV-MA\",\"TV-MA\",\"TV-MA\",\"TV-MA\",\"TV-MA\",\"TV-MA\",\"TV-MA\",\"TV-MA\",\"TV-MA\",\"TV-MA\",\"TV-MA\",\"TV-MA\",\"TV-MA\",\"TV-MA\",\"TV-MA\",\"TV-MA\",\"TV-MA\",\"TV-MA\",\"TV-MA\",\"TV-MA\",\"TV-MA\",\"TV-MA\",\"TV-MA\",\"TV-MA\",\"TV-MA\",\"TV-MA\",\"TV-MA\",\"TV-MA\",\"TV-MA\",\"TV-MA\",\"TV-MA\",\"TV-MA\",\"TV-MA\",\"TV-MA\",\"TV-MA\",\"TV-MA\",\"TV-MA\",\"TV-MA\",\"TV-MA\",\"TV-MA\",\"TV-MA\",\"TV-MA\",\"TV-MA\",\"TV-MA\",\"TV-MA\",\"TV-MA\",\"TV-MA\",\"TV-MA\",\"TV-MA\",\"TV-MA\",\"TV-MA\",\"TV-MA\",\"TV-MA\",\"TV-MA\",\"TV-MA\",\"TV-MA\",\"TV-MA\",\"TV-MA\",\"TV-MA\",\"TV-MA\",\"TV-MA\",\"TV-MA\",\"TV-MA\",\"TV-MA\",\"TV-MA\",\"TV-MA\",\"TV-MA\",\"TV-MA\",\"TV-MA\",\"TV-MA\",\"TV-MA\",\"TV-MA\",\"TV-MA\",\"TV-MA\",\"TV-MA\",\"TV-MA\",\"TV-MA\",\"TV-MA\",\"TV-MA\",\"TV-MA\",\"TV-MA\",\"TV-MA\",\"TV-MA\",\"TV-MA\",\"TV-MA\",\"TV-MA\",\"TV-MA\",\"TV-MA\",\"TV-MA\",\"TV-MA\",\"TV-MA\",\"TV-MA\",\"TV-MA\",\"TV-MA\",\"TV-MA\",\"TV-MA\",\"TV-MA\",\"TV-MA\",\"TV-MA\",\"TV-MA\",\"TV-MA\",\"TV-MA\",\"TV-MA\",\"TV-MA\",\"TV-MA\",\"TV-MA\",\"TV-MA\",\"TV-MA\",\"TV-MA\",\"TV-MA\",\"TV-MA\",\"TV-MA\",\"TV-MA\",\"TV-MA\",\"TV-MA\",\"TV-MA\",\"TV-MA\",\"TV-MA\",\"TV-MA\",\"TV-MA\",\"TV-MA\",\"TV-MA\",\"TV-MA\",\"TV-MA\",\"TV-MA\",\"TV-MA\",\"TV-MA\",\"TV-MA\",\"TV-MA\",\"TV-MA\",\"TV-MA\",\"TV-MA\",\"TV-MA\",\"TV-MA\",\"TV-MA\",\"TV-MA\",\"TV-MA\",\"TV-MA\",\"TV-MA\",\"TV-MA\",\"TV-MA\",\"TV-MA\",\"TV-MA\",\"TV-MA\",\"TV-MA\",\"TV-MA\",\"TV-MA\",\"TV-MA\",\"TV-MA\",\"TV-MA\",\"TV-MA\",\"TV-MA\",\"TV-MA\",\"TV-MA\",\"TV-MA\",\"TV-MA\",\"TV-MA\",\"TV-MA\",\"TV-MA\",\"TV-MA\",\"TV-MA\",\"TV-MA\",\"TV-MA\",\"TV-MA\",\"TV-MA\",\"TV-MA\",\"TV-MA\",\"TV-MA\",\"TV-MA\",\"TV-MA\",\"TV-MA\",\"TV-MA\",\"TV-MA\",\"TV-MA\",\"TV-MA\",\"TV-MA\",\"TV-MA\",\"TV-MA\",\"TV-MA\",\"TV-MA\",\"TV-MA\",\"TV-MA\",\"TV-MA\",\"TV-MA\",\"TV-MA\",\"TV-MA\",\"TV-MA\",\"TV-MA\",\"TV-MA\",\"TV-MA\",\"TV-MA\",\"TV-MA\",\"TV-MA\",\"TV-MA\",\"TV-MA\",\"TV-MA\",\"TV-MA\",\"TV-MA\",\"TV-MA\",\"TV-MA\",\"TV-MA\",\"TV-MA\",\"TV-MA\",\"TV-MA\",\"TV-MA\",\"TV-MA\",\"TV-MA\",\"TV-MA\",\"TV-MA\",\"TV-MA\",\"TV-MA\",\"TV-MA\",\"TV-MA\",\"TV-MA\",\"TV-MA\",\"TV-MA\",\"TV-MA\",\"TV-MA\",\"TV-MA\",\"TV-MA\",\"TV-MA\",\"TV-MA\",\"TV-MA\",\"TV-MA\",\"TV-MA\",\"TV-MA\",\"TV-MA\",\"TV-MA\",\"TV-MA\",\"TV-MA\",\"TV-MA\",\"TV-MA\",\"TV-MA\",\"TV-MA\",\"TV-MA\",\"TV-MA\",\"TV-MA\",\"TV-MA\",\"TV-MA\",\"TV-MA\",\"TV-MA\",\"TV-MA\",\"TV-MA\",\"TV-MA\",\"TV-MA\",\"TV-MA\",\"TV-MA\",\"TV-MA\",\"TV-MA\",\"TV-MA\",\"TV-MA\",\"TV-MA\",\"TV-MA\",\"TV-MA\",\"TV-MA\",\"TV-MA\",\"TV-MA\",\"TV-MA\",\"TV-MA\",\"TV-MA\",\"TV-MA\",\"TV-MA\",\"TV-MA\",\"TV-MA\",\"TV-MA\",\"TV-MA\",\"TV-MA\",\"TV-MA\",\"TV-MA\",\"TV-MA\",\"TV-MA\",\"TV-MA\",\"TV-MA\",\"TV-MA\",\"TV-MA\",\"TV-MA\",\"TV-MA\",\"TV-MA\",\"TV-MA\",\"TV-MA\",\"TV-MA\",\"TV-MA\",\"TV-MA\",\"TV-MA\",\"TV-MA\",\"TV-MA\",\"TV-MA\",\"TV-MA\",\"TV-MA\",\"TV-MA\",\"TV-MA\",\"TV-MA\",\"TV-MA\",\"TV-MA\",\"TV-MA\",\"TV-MA\",\"TV-MA\",\"TV-MA\",\"TV-MA\",\"TV-MA\",\"TV-MA\",\"TV-MA\",\"TV-MA\",\"TV-MA\",\"TV-MA\",\"TV-MA\",\"TV-MA\",\"TV-MA\",\"TV-MA\",\"TV-MA\",\"TV-MA\",\"TV-MA\",\"TV-MA\",\"TV-MA\",\"TV-MA\",\"TV-MA\",\"TV-MA\",\"TV-MA\",\"TV-MA\",\"TV-MA\",\"TV-MA\",\"TV-MA\",\"TV-MA\",\"TV-MA\",\"TV-MA\",\"TV-MA\",\"TV-MA\",\"TV-MA\",\"TV-MA\",\"TV-MA\",\"TV-MA\",\"TV-MA\",\"TV-MA\",\"TV-MA\",\"TV-MA\",\"TV-MA\",\"TV-MA\",\"TV-MA\",\"TV-MA\",\"TV-MA\",\"TV-MA\",\"TV-MA\",\"TV-MA\",\"TV-MA\",\"TV-MA\",\"TV-MA\",\"TV-MA\",\"TV-MA\",\"TV-MA\",\"TV-MA\",\"TV-MA\",\"TV-MA\",\"TV-MA\",\"TV-MA\",\"TV-MA\",\"TV-MA\",\"TV-MA\",\"TV-MA\",\"TV-MA\",\"TV-MA\",\"TV-MA\",\"TV-MA\",\"TV-MA\",\"TV-MA\",\"TV-MA\",\"TV-MA\",\"TV-MA\",\"TV-MA\",\"TV-MA\",\"TV-MA\",\"TV-MA\",\"TV-MA\",\"TV-MA\",\"TV-MA\",\"TV-MA\",\"TV-MA\",\"TV-MA\",\"TV-MA\",\"TV-MA\",\"TV-MA\",\"TV-MA\",\"TV-MA\",\"TV-MA\",\"TV-MA\",\"TV-MA\",\"TV-MA\",\"TV-MA\",\"TV-MA\",\"TV-MA\",\"TV-MA\",\"TV-MA\",\"TV-MA\",\"TV-MA\",\"TV-MA\",\"TV-MA\",\"TV-MA\",\"TV-MA\",\"TV-MA\",\"TV-MA\",\"TV-MA\",\"TV-MA\",\"TV-MA\",\"TV-MA\",\"TV-MA\",\"TV-MA\",\"TV-MA\",\"TV-MA\",\"TV-MA\",\"TV-MA\",\"TV-MA\",\"TV-MA\",\"TV-MA\",\"TV-MA\",\"TV-MA\",\"TV-MA\",\"TV-MA\",\"TV-MA\",\"TV-MA\",\"TV-MA\",\"TV-MA\",\"TV-MA\",\"TV-MA\",\"TV-MA\",\"TV-MA\",\"TV-MA\",\"TV-MA\",\"TV-MA\",\"TV-MA\",\"TV-MA\",\"TV-MA\",\"TV-MA\",\"TV-MA\",\"TV-MA\",\"TV-MA\",\"TV-MA\",\"TV-MA\",\"TV-MA\",\"TV-MA\",\"TV-MA\",\"TV-MA\",\"TV-MA\",\"TV-MA\",\"TV-MA\",\"TV-MA\",\"TV-MA\",\"TV-MA\",\"TV-MA\",\"TV-MA\",\"TV-MA\",\"TV-MA\",\"TV-MA\",\"TV-MA\",\"TV-MA\",\"TV-MA\",\"TV-MA\",\"TV-MA\",\"TV-MA\",\"TV-MA\",\"TV-MA\",\"TV-MA\",\"TV-MA\",\"TV-MA\",\"TV-MA\",\"TV-MA\",\"TV-MA\",\"TV-MA\",\"TV-MA\",\"TV-MA\",\"TV-MA\",\"TV-MA\",\"TV-MA\",\"TV-MA\",\"TV-MA\",\"TV-MA\",\"TV-MA\",\"TV-MA\",\"TV-MA\",\"TV-MA\",\"TV-MA\",\"TV-MA\",\"TV-MA\",\"TV-MA\",\"TV-MA\",\"TV-MA\",\"TV-MA\",\"TV-MA\",\"TV-MA\",\"TV-MA\",\"TV-MA\",\"TV-MA\",\"TV-MA\",\"TV-MA\",\"TV-MA\",\"TV-MA\",\"TV-MA\",\"TV-MA\",\"TV-MA\",\"TV-MA\",\"TV-MA\",\"TV-MA\",\"TV-MA\",\"TV-MA\",\"TV-MA\",\"TV-MA\",\"TV-MA\",\"TV-MA\",\"TV-MA\",\"TV-MA\",\"TV-MA\",\"TV-MA\",\"TV-MA\",\"TV-MA\",\"TV-MA\",\"TV-MA\",\"TV-MA\",\"TV-MA\",\"TV-MA\",\"TV-MA\",\"TV-MA\",\"TV-MA\",\"TV-MA\",\"TV-MA\",\"TV-MA\",\"TV-MA\",\"TV-MA\",\"TV-MA\",\"TV-MA\",\"TV-MA\",\"TV-MA\",\"TV-MA\",\"TV-MA\",\"TV-MA\",\"TV-MA\",\"TV-MA\",\"TV-MA\",\"TV-MA\",\"TV-MA\",\"TV-MA\",\"TV-MA\",\"TV-MA\",\"TV-MA\",\"TV-MA\",\"TV-MA\",\"TV-MA\",\"TV-MA\",\"TV-MA\",\"TV-MA\",\"TV-MA\",\"TV-MA\",\"TV-MA\",\"TV-MA\",\"TV-MA\",\"TV-MA\",\"TV-MA\",\"TV-MA\",\"TV-MA\",\"TV-MA\",\"TV-MA\",\"TV-MA\",\"TV-MA\",\"TV-MA\",\"TV-MA\",\"TV-MA\",\"TV-MA\",\"TV-MA\",\"TV-MA\",\"TV-MA\",\"TV-MA\",\"TV-MA\",\"TV-MA\",\"TV-MA\",\"TV-MA\",\"TV-MA\",\"TV-MA\",\"TV-MA\",\"TV-MA\",\"TV-MA\",\"TV-MA\",\"TV-MA\",\"TV-MA\",\"TV-MA\",\"TV-MA\",\"TV-MA\",\"TV-MA\",\"TV-MA\",\"TV-MA\",\"TV-MA\",\"TV-MA\",\"TV-MA\",\"TV-MA\",\"TV-MA\",\"TV-MA\",\"TV-MA\",\"TV-MA\",\"TV-MA\",\"TV-MA\",\"TV-MA\",\"TV-MA\",\"TV-MA\",\"TV-MA\",\"TV-MA\",\"TV-MA\",\"TV-MA\",\"TV-MA\",\"TV-MA\",\"TV-MA\",\"TV-MA\",\"TV-MA\",\"TV-MA\",\"TV-MA\",\"TV-MA\",\"TV-MA\",\"TV-MA\",\"TV-MA\",\"TV-MA\",\"TV-MA\",\"TV-MA\",\"TV-MA\",\"TV-MA\",\"TV-MA\",\"TV-MA\",\"TV-MA\",\"TV-MA\",\"TV-MA\",\"TV-MA\",\"TV-MA\",\"TV-MA\",\"TV-MA\",\"TV-MA\",\"TV-MA\",\"TV-MA\",\"TV-MA\",\"TV-MA\",\"TV-MA\",\"TV-MA\",\"TV-MA\",\"TV-MA\",\"TV-MA\",\"TV-MA\",\"TV-MA\",\"TV-MA\",\"TV-MA\",\"TV-MA\",\"TV-MA\",\"TV-MA\",\"TV-MA\",\"TV-MA\",\"TV-MA\",\"TV-MA\",\"TV-MA\",\"TV-MA\",\"TV-MA\",\"TV-MA\",\"TV-MA\",\"TV-MA\",\"TV-MA\",\"TV-MA\",\"TV-MA\",\"TV-MA\",\"TV-MA\",\"TV-MA\",\"TV-MA\",\"TV-MA\",\"TV-MA\",\"TV-MA\",\"TV-MA\",\"TV-MA\",\"TV-MA\",\"TV-MA\",\"TV-MA\",\"TV-MA\",\"TV-MA\",\"TV-MA\",\"TV-MA\",\"TV-MA\",\"TV-MA\",\"TV-MA\",\"TV-MA\",\"TV-MA\",\"TV-MA\",\"TV-MA\",\"TV-MA\",\"TV-MA\",\"TV-MA\",\"TV-MA\",\"TV-MA\",\"TV-MA\",\"TV-MA\",\"TV-MA\",\"TV-MA\",\"TV-MA\",\"TV-MA\",\"TV-MA\",\"TV-MA\",\"TV-MA\",\"TV-MA\",\"TV-MA\",\"TV-MA\",\"TV-MA\",\"TV-MA\",\"TV-MA\",\"TV-MA\",\"TV-MA\",\"TV-MA\",\"TV-MA\",\"TV-MA\",\"TV-MA\",\"TV-MA\",\"TV-MA\",\"TV-MA\",\"TV-MA\",\"TV-MA\",\"TV-MA\",\"TV-MA\",\"TV-MA\",\"TV-MA\",\"TV-MA\",\"TV-MA\",\"TV-MA\",\"TV-MA\",\"TV-MA\",\"TV-MA\",\"TV-MA\",\"TV-MA\",\"TV-MA\",\"TV-MA\",\"TV-MA\",\"TV-MA\",\"TV-MA\",\"TV-MA\",\"TV-MA\",\"TV-MA\",\"TV-MA\",\"TV-MA\",\"TV-MA\",\"TV-MA\",\"TV-MA\",\"TV-MA\",\"TV-MA\",\"TV-MA\",\"TV-MA\",\"TV-MA\",\"TV-MA\",\"TV-MA\",\"TV-MA\",\"TV-MA\",\"TV-MA\",\"TV-MA\",\"TV-MA\",\"TV-MA\",\"TV-MA\",\"TV-MA\",\"TV-MA\",\"TV-MA\",\"TV-MA\",\"TV-MA\",\"TV-MA\",\"TV-MA\",\"TV-MA\",\"TV-MA\",\"TV-MA\",\"TV-MA\",\"TV-MA\",\"TV-MA\",\"TV-MA\",\"TV-MA\",\"TV-MA\",\"TV-MA\",\"TV-MA\",\"TV-MA\",\"TV-MA\",\"TV-MA\",\"TV-MA\",\"TV-MA\",\"TV-MA\",\"TV-MA\",\"TV-MA\",\"TV-MA\",\"TV-MA\",\"TV-MA\",\"TV-MA\",\"TV-MA\",\"TV-MA\",\"TV-MA\",\"TV-MA\",\"TV-MA\",\"TV-MA\",\"TV-MA\",\"TV-MA\",\"TV-MA\",\"TV-MA\",\"TV-MA\",\"TV-MA\",\"TV-MA\",\"TV-MA\",\"TV-MA\",\"TV-MA\",\"TV-MA\",\"TV-MA\",\"TV-MA\",\"TV-MA\",\"TV-MA\",\"TV-MA\",\"TV-MA\",\"TV-MA\",\"TV-MA\",\"TV-MA\",\"TV-MA\",\"TV-MA\",\"TV-MA\",\"TV-MA\",\"TV-MA\",\"TV-MA\",\"TV-MA\",\"TV-MA\",\"TV-MA\",\"TV-MA\",\"TV-MA\",\"TV-MA\",\"TV-MA\",\"TV-MA\",\"TV-MA\",\"TV-MA\",\"TV-MA\",\"TV-MA\",\"TV-MA\",\"TV-MA\",\"TV-MA\",\"TV-MA\",\"TV-MA\",\"TV-MA\",\"TV-MA\",\"TV-MA\",\"TV-MA\",\"TV-MA\",\"TV-MA\",\"TV-MA\",\"TV-MA\",\"TV-MA\",\"TV-MA\",\"TV-MA\",\"TV-MA\",\"TV-MA\",\"TV-MA\",\"TV-MA\",\"TV-MA\",\"TV-MA\",\"TV-MA\",\"TV-MA\",\"TV-MA\",\"TV-MA\",\"TV-MA\",\"TV-MA\",\"TV-MA\",\"TV-MA\",\"TV-MA\",\"TV-MA\",\"TV-MA\",\"TV-MA\",\"TV-MA\",\"TV-MA\",\"TV-MA\",\"TV-MA\",\"TV-MA\",\"TV-MA\",\"TV-MA\",\"TV-MA\",\"TV-MA\",\"TV-MA\",\"TV-MA\",\"TV-MA\",\"TV-MA\",\"TV-MA\",\"TV-MA\",\"TV-MA\",\"TV-MA\",\"TV-MA\",\"TV-MA\",\"TV-MA\",\"TV-MA\",\"TV-MA\",\"TV-MA\",\"TV-MA\",\"TV-MA\",\"TV-MA\",\"TV-MA\",\"TV-MA\",\"TV-MA\",\"TV-MA\",\"TV-MA\",\"TV-MA\",\"TV-MA\",\"TV-MA\",\"TV-MA\",\"TV-MA\",\"TV-MA\",\"TV-MA\",\"TV-MA\",\"TV-MA\",\"TV-MA\",\"TV-MA\",\"TV-MA\",\"TV-MA\",\"TV-MA\",\"TV-MA\",\"TV-MA\",\"TV-MA\",\"TV-MA\",\"TV-MA\",\"TV-MA\",\"TV-MA\",\"TV-MA\",\"TV-MA\",\"TV-MA\",\"TV-MA\",\"TV-MA\",\"TV-MA\",\"TV-MA\",\"TV-MA\",\"TV-MA\",\"TV-MA\",\"TV-MA\",\"TV-MA\",\"TV-MA\",\"TV-MA\",\"TV-MA\",\"TV-MA\",\"TV-MA\",\"TV-MA\",\"TV-MA\",\"TV-MA\",\"TV-MA\",\"TV-MA\",\"TV-MA\",\"TV-MA\",\"TV-MA\",\"TV-MA\"],\"xaxis\":\"x\",\"y\":[1,1,1,1,1,1,1,1,1,1,1,1,1,1,1,1,1,1,1,1,1,1,1,1,1,1,1,1,1,1,1,1,1,1,1,1,1,1,1,1,1,1,1,1,1,1,1,1,1,1,1,1,1,1,1,1,1,1,1,1,1,1,1,1,1,1,1,1,1,1,1,1,1,1,1,1,1,1,1,1,1,1,1,1,1,1,1,1,1,1,1,1,1,1,1,1,1,1,1,1,1,1,1,1,1,1,1,1,1,1,1,1,1,1,1,1,1,1,1,1,1,1,1,1,1,1,1,1,1,1,1,1,1,1,1,1,1,1,1,1,1,1,1,1,1,1,1,1,1,1,1,1,1,1,1,1,1,1,1,1,1,1,1,1,1,1,1,1,1,1,1,1,1,1,1,1,1,1,1,1,1,1,1,1,1,1,1,1,1,1,1,1,1,1,1,1,1,1,1,1,1,1,1,1,1,1,1,1,1,1,1,1,1,1,1,1,1,1,1,1,1,1,1,1,1,1,1,1,1,1,1,1,1,1,1,1,1,1,1,1,1,1,1,1,1,1,1,1,1,1,1,1,1,1,1,1,1,1,1,1,1,1,1,1,1,1,1,1,1,1,1,1,1,1,1,1,1,1,1,1,1,1,1,1,1,1,1,1,1,1,1,1,1,1,1,1,1,1,1,1,1,1,1,1,1,1,1,1,1,1,1,1,1,1,1,1,1,1,1,1,1,1,1,1,1,1,1,1,1,1,1,1,1,1,1,1,1,1,1,1,1,1,1,1,1,1,1,1,1,1,1,1,1,1,1,1,1,1,1,1,1,1,1,1,1,1,1,1,1,1,1,1,1,1,1,1,1,1,1,1,1,1,1,1,1,1,1,1,1,1,1,1,1,1,1,1,1,1,1,1,1,1,1,1,1,1,1,1,1,1,1,1,1,1,1,1,1,1,1,1,1,1,1,1,1,1,1,1,1,1,1,1,1,1,1,1,1,1,1,1,1,1,1,1,1,1,1,1,1,1,1,1,1,1,1,1,1,1,1,1,1,1,1,1,1,1,1,1,1,1,1,1,1,1,1,1,1,1,1,1,1,1,1,1,1,1,1,1,1,1,1,1,1,1,1,1,1,1,1,1,1,1,1,1,1,1,1,1,1,1,1,1,1,1,1,1,1,1,1,1,1,1,1,1,1,1,1,1,1,1,1,1,1,1,1,1,1,1,1,1,1,1,1,1,1,1,1,1,1,1,1,1,1,1,1,1,1,1,1,1,1,1,1,1,1,1,1,1,1,1,1,1,1,1,1,1,1,1,1,1,1,1,1,1,1,1,1,1,1,1,1,1,1,1,1,1,1,1,1,1,1,1,1,1,1,1,1,1,1,1,1,1,1,1,1,1,1,1,1,1,1,1,1,1,1,1,1,1,1,1,1,1,1,1,1,1,1,1,1,1,1,1,1,1,1,1,1,1,1,1,1,1,1,1,1,1,1,1,1,1,1,1,1,1,1,1,1,1,1,1,1,1,1,1,1,1,1,1,1,1,1,1,1,1,1,1,1,1,1,1,1,1,1,1,1,1,1,1,1,1,1,1,1,1,1,1,1,1,1,1,1,1,1,1,1,1,1,1,1,1,1,1,1,1,1,1,1,1,1,1,1,1,1,1,1,1,1,1,1,1,1,1,1,1,1,1,1,1,1,1,1,1,1,1,1,1,1,1,1,1,1,1,1,1,1,1,1,1,1,1,1,1,1,1,1,1,1,1,1,1,1,1,1,1,1,1,1,1,1,1,1,1,1,1,1,1,1,1,1,1,1,1,1,1,1,1,1,1,1,1,1,1,1,1,1,1,1,1,1,1,1,1,1,1,1,1,1,1,1,1,1,1,1,1,1,1,1,1,1,1,1,1,1,1,1,1,1,1,1,1,1,1,1,1,1,1,1,1,1,1,1,1,1,1,1,1,1,1,1,1,1,1,1,1,1,1,1,1,1,1,1,1,1,1,1,1,1,1,1,1,1,1,1,1,1,1,1,1,1,1,1,1,1,1,1,1,1,1,1,1,1,1,1,1,1,1,1,1,1,1,1,1,1,1,1,1,1,1,1,1,1,1,1,1,1,1,1,1,1,1,1,1,1,1,1,1,1,1,1,1,1,1,1,1,1,1,1,1,1,1,1,1,1,1,1,1,1,1,1,1,1,1,1,1,1,1,1,1,1,1,1,1,1,1,1,1,1,1,1,1,1,1,1,1,1,1,1,1,1,1,1,1,1,1,1,1,1,1,1,1,1,1,1,1,1,1,1,1,1,1,1,1,1,1,1,1,1,1,1,1,1,1,1,1,1,1,1,1,1,1,1,1,1,1,1,1,1,1,1,1,1,1,1,1,1,1,1,1,1,1,1,1,1,1,1,1,1,1,1,1,1,1,1,1,1,1,1,1,1,1,1,1,1,1,1,1,1,1,1,1,1,1,1,1,1,1,1,1,1,1,1,1,1,1,1,1,1,1,1,1,1,1,1,1,1,1,1,1,1,1,1,1,1,1,1,1,1,1,1,1,1,1,1,1,1,1,1,1,1,1,1,1,1,1,1,1,1,1,1,1,1,1,1,1,1,1,1,1,1,1,1,1,1,1,1,1,1,1,1,1,1,1,1,1,1,1,1,1,1,1,1,1,1,1,1,1,1,1,1],\"yaxis\":\"y\",\"type\":\"bar\"},{\"alignmentgroup\":\"True\",\"hovertemplate\":\"rating=%{x}<br>count=%{y}<extra></extra>\",\"legendgroup\":\"NR\",\"marker\":{\"color\":\"#FFA15A\",\"pattern\":{\"shape\":\"\"},\"line\":{\"width\":0}},\"name\":\"NR\",\"offsetgroup\":\"NR\",\"orientation\":\"v\",\"showlegend\":true,\"textposition\":\"auto\",\"x\":[\"NR\",\"NR\",\"NR\",\"NR\",\"NR\",\"NR\",\"NR\",\"NR\",\"NR\",\"NR\",\"NR\",\"NR\",\"NR\",\"NR\",\"NR\",\"NR\",\"NR\",\"NR\",\"NR\",\"NR\",\"NR\",\"NR\",\"NR\",\"NR\",\"NR\",\"NR\",\"NR\",\"NR\",\"NR\",\"NR\",\"NR\",\"NR\",\"NR\",\"NR\",\"NR\",\"NR\",\"NR\",\"NR\",\"NR\",\"NR\",\"NR\",\"NR\",\"NR\",\"NR\",\"NR\",\"NR\",\"NR\",\"NR\",\"NR\",\"NR\",\"NR\",\"NR\",\"NR\",\"NR\",\"NR\",\"NR\",\"NR\",\"NR\",\"NR\",\"NR\",\"NR\",\"NR\",\"NR\",\"NR\",\"NR\",\"NR\",\"NR\",\"NR\",\"NR\",\"NR\",\"NR\",\"NR\",\"NR\",\"NR\",\"NR\",\"NR\",\"NR\",\"NR\",\"NR\",\"NR\",\"NR\",\"NR\",\"NR\",\"NR\",\"NR\",\"NR\",\"NR\",\"NR\",\"NR\",\"NR\",\"NR\",\"NR\",\"NR\",\"NR\",\"NR\",\"NR\",\"NR\",\"NR\",\"NR\",\"NR\",\"NR\",\"NR\",\"NR\",\"NR\",\"NR\",\"NR\",\"NR\",\"NR\",\"NR\",\"NR\",\"NR\",\"NR\",\"NR\",\"NR\",\"NR\",\"NR\",\"NR\",\"NR\",\"NR\",\"NR\",\"NR\",\"NR\",\"NR\",\"NR\",\"NR\",\"NR\",\"NR\",\"NR\",\"NR\",\"NR\",\"NR\",\"NR\",\"NR\",\"NR\",\"NR\",\"NR\",\"NR\",\"NR\",\"NR\",\"NR\",\"NR\",\"NR\",\"NR\",\"NR\",\"NR\",\"NR\",\"NR\",\"NR\",\"NR\",\"NR\",\"NR\",\"NR\",\"NR\",\"NR\",\"NR\",\"NR\",\"NR\",\"NR\",\"NR\",\"NR\",\"NR\",\"NR\",\"NR\",\"NR\",\"NR\",\"NR\",\"NR\",\"NR\",\"NR\",\"NR\",\"NR\",\"NR\",\"NR\",\"NR\",\"NR\"],\"xaxis\":\"x\",\"y\":[1,1,1,1,1,1,1,1,1,1,1,1,1,1,1,1,1,1,1,1,1,1,1,1,1,1,1,1,1,1,1,1,1,1,1,1,1,1,1,1,1,1,1,1,1,1,1,1,1,1,1,1,1,1,1,1,1,1,1,1,1,1,1,1,1,1,1,1,1,1,1,1,1,1,1,1,1,1,1,1,1,1,1,1,1,1,1,1,1,1,1,1,1,1,1,1,1,1,1,1,1,1,1,1,1,1,1,1,1,1,1,1,1,1,1,1,1,1,1,1,1,1,1,1,1,1,1,1,1,1,1,1,1,1,1,1,1,1,1,1,1,1,1,1,1,1,1,1,1,1,1,1,1,1,1,1,1,1,1,1,1,1,1,1,1,1,1,1,1,1,1,1,1,1,1],\"yaxis\":\"y\",\"type\":\"bar\"},{\"alignmentgroup\":\"True\",\"hovertemplate\":\"rating=%{x}<br>count=%{y}<extra></extra>\",\"legendgroup\":\"PG-13\",\"marker\":{\"color\":\"#19d3f3\",\"pattern\":{\"shape\":\"\"},\"line\":{\"width\":0}},\"name\":\"PG-13\",\"offsetgroup\":\"PG-13\",\"orientation\":\"v\",\"showlegend\":true,\"textposition\":\"auto\",\"x\":[\"PG-13\",\"PG-13\",\"PG-13\",\"PG-13\",\"PG-13\",\"PG-13\",\"PG-13\",\"PG-13\",\"PG-13\",\"PG-13\",\"PG-13\",\"PG-13\",\"PG-13\",\"PG-13\",\"PG-13\",\"PG-13\",\"PG-13\",\"PG-13\",\"PG-13\",\"PG-13\",\"PG-13\",\"PG-13\",\"PG-13\",\"PG-13\",\"PG-13\",\"PG-13\",\"PG-13\",\"PG-13\",\"PG-13\",\"PG-13\",\"PG-13\",\"PG-13\",\"PG-13\",\"PG-13\",\"PG-13\",\"PG-13\",\"PG-13\",\"PG-13\",\"PG-13\",\"PG-13\",\"PG-13\",\"PG-13\",\"PG-13\",\"PG-13\",\"PG-13\",\"PG-13\",\"PG-13\",\"PG-13\",\"PG-13\",\"PG-13\",\"PG-13\",\"PG-13\",\"PG-13\",\"PG-13\",\"PG-13\",\"PG-13\",\"PG-13\",\"PG-13\",\"PG-13\",\"PG-13\",\"PG-13\",\"PG-13\",\"PG-13\",\"PG-13\",\"PG-13\",\"PG-13\",\"PG-13\",\"PG-13\",\"PG-13\",\"PG-13\",\"PG-13\",\"PG-13\",\"PG-13\",\"PG-13\",\"PG-13\",\"PG-13\",\"PG-13\",\"PG-13\",\"PG-13\",\"PG-13\",\"PG-13\",\"PG-13\",\"PG-13\",\"PG-13\",\"PG-13\",\"PG-13\",\"PG-13\",\"PG-13\",\"PG-13\",\"PG-13\",\"PG-13\",\"PG-13\",\"PG-13\",\"PG-13\",\"PG-13\",\"PG-13\",\"PG-13\",\"PG-13\",\"PG-13\",\"PG-13\",\"PG-13\",\"PG-13\",\"PG-13\",\"PG-13\",\"PG-13\",\"PG-13\",\"PG-13\",\"PG-13\",\"PG-13\",\"PG-13\",\"PG-13\",\"PG-13\",\"PG-13\",\"PG-13\",\"PG-13\",\"PG-13\",\"PG-13\",\"PG-13\",\"PG-13\",\"PG-13\",\"PG-13\",\"PG-13\",\"PG-13\",\"PG-13\",\"PG-13\",\"PG-13\",\"PG-13\",\"PG-13\",\"PG-13\",\"PG-13\",\"PG-13\",\"PG-13\",\"PG-13\",\"PG-13\",\"PG-13\",\"PG-13\",\"PG-13\",\"PG-13\",\"PG-13\",\"PG-13\",\"PG-13\",\"PG-13\",\"PG-13\",\"PG-13\",\"PG-13\",\"PG-13\",\"PG-13\",\"PG-13\",\"PG-13\",\"PG-13\",\"PG-13\",\"PG-13\",\"PG-13\",\"PG-13\",\"PG-13\",\"PG-13\",\"PG-13\",\"PG-13\",\"PG-13\",\"PG-13\",\"PG-13\",\"PG-13\",\"PG-13\",\"PG-13\",\"PG-13\",\"PG-13\",\"PG-13\",\"PG-13\",\"PG-13\",\"PG-13\",\"PG-13\",\"PG-13\",\"PG-13\",\"PG-13\",\"PG-13\",\"PG-13\",\"PG-13\",\"PG-13\",\"PG-13\",\"PG-13\",\"PG-13\",\"PG-13\",\"PG-13\",\"PG-13\",\"PG-13\",\"PG-13\",\"PG-13\",\"PG-13\",\"PG-13\",\"PG-13\",\"PG-13\",\"PG-13\",\"PG-13\",\"PG-13\",\"PG-13\",\"PG-13\",\"PG-13\",\"PG-13\",\"PG-13\",\"PG-13\",\"PG-13\",\"PG-13\",\"PG-13\",\"PG-13\",\"PG-13\",\"PG-13\",\"PG-13\",\"PG-13\",\"PG-13\",\"PG-13\",\"PG-13\",\"PG-13\",\"PG-13\",\"PG-13\",\"PG-13\",\"PG-13\",\"PG-13\",\"PG-13\",\"PG-13\",\"PG-13\",\"PG-13\",\"PG-13\",\"PG-13\",\"PG-13\",\"PG-13\",\"PG-13\",\"PG-13\",\"PG-13\",\"PG-13\",\"PG-13\",\"PG-13\",\"PG-13\",\"PG-13\",\"PG-13\",\"PG-13\",\"PG-13\",\"PG-13\",\"PG-13\",\"PG-13\",\"PG-13\",\"PG-13\",\"PG-13\",\"PG-13\",\"PG-13\",\"PG-13\",\"PG-13\",\"PG-13\",\"PG-13\",\"PG-13\",\"PG-13\",\"PG-13\",\"PG-13\",\"PG-13\",\"PG-13\",\"PG-13\",\"PG-13\",\"PG-13\",\"PG-13\",\"PG-13\",\"PG-13\",\"PG-13\",\"PG-13\",\"PG-13\",\"PG-13\",\"PG-13\",\"PG-13\",\"PG-13\",\"PG-13\",\"PG-13\",\"PG-13\",\"PG-13\",\"PG-13\",\"PG-13\",\"PG-13\",\"PG-13\",\"PG-13\",\"PG-13\",\"PG-13\"],\"xaxis\":\"x\",\"y\":[1,1,1,1,1,1,1,1,1,1,1,1,1,1,1,1,1,1,1,1,1,1,1,1,1,1,1,1,1,1,1,1,1,1,1,1,1,1,1,1,1,1,1,1,1,1,1,1,1,1,1,1,1,1,1,1,1,1,1,1,1,1,1,1,1,1,1,1,1,1,1,1,1,1,1,1,1,1,1,1,1,1,1,1,1,1,1,1,1,1,1,1,1,1,1,1,1,1,1,1,1,1,1,1,1,1,1,1,1,1,1,1,1,1,1,1,1,1,1,1,1,1,1,1,1,1,1,1,1,1,1,1,1,1,1,1,1,1,1,1,1,1,1,1,1,1,1,1,1,1,1,1,1,1,1,1,1,1,1,1,1,1,1,1,1,1,1,1,1,1,1,1,1,1,1,1,1,1,1,1,1,1,1,1,1,1,1,1,1,1,1,1,1,1,1,1,1,1,1,1,1,1,1,1,1,1,1,1,1,1,1,1,1,1,1,1,1,1,1,1,1,1,1,1,1,1,1,1,1,1,1,1,1,1,1,1,1,1,1,1,1,1,1,1,1,1,1,1,1,1,1,1,1,1,1,1,1,1,1,1,1,1,1,1,1,1,1,1,1,1,1,1,1,1,1,1,1,1],\"yaxis\":\"y\",\"type\":\"bar\"},{\"alignmentgroup\":\"True\",\"hovertemplate\":\"rating=%{x}<br>count=%{y}<extra></extra>\",\"legendgroup\":\"PG\",\"marker\":{\"color\":\"#FF6692\",\"pattern\":{\"shape\":\"\"},\"line\":{\"width\":0}},\"name\":\"PG\",\"offsetgroup\":\"PG\",\"orientation\":\"v\",\"showlegend\":true,\"textposition\":\"auto\",\"x\":[\"PG\",\"PG\",\"PG\",\"PG\",\"PG\",\"PG\",\"PG\",\"PG\",\"PG\",\"PG\",\"PG\",\"PG\",\"PG\",\"PG\",\"PG\",\"PG\",\"PG\",\"PG\",\"PG\",\"PG\",\"PG\",\"PG\",\"PG\",\"PG\",\"PG\",\"PG\",\"PG\",\"PG\",\"PG\",\"PG\",\"PG\",\"PG\",\"PG\",\"PG\",\"PG\",\"PG\",\"PG\",\"PG\",\"PG\",\"PG\",\"PG\",\"PG\",\"PG\",\"PG\",\"PG\",\"PG\",\"PG\",\"PG\",\"PG\",\"PG\",\"PG\",\"PG\",\"PG\",\"PG\",\"PG\",\"PG\",\"PG\",\"PG\",\"PG\",\"PG\",\"PG\",\"PG\",\"PG\",\"PG\",\"PG\",\"PG\",\"PG\",\"PG\",\"PG\",\"PG\",\"PG\",\"PG\",\"PG\",\"PG\",\"PG\",\"PG\",\"PG\",\"PG\",\"PG\",\"PG\",\"PG\",\"PG\",\"PG\",\"PG\",\"PG\",\"PG\",\"PG\",\"PG\",\"PG\",\"PG\",\"PG\",\"PG\",\"PG\",\"PG\",\"PG\",\"PG\",\"PG\",\"PG\",\"PG\",\"PG\",\"PG\",\"PG\",\"PG\",\"PG\",\"PG\",\"PG\",\"PG\",\"PG\",\"PG\",\"PG\",\"PG\",\"PG\",\"PG\",\"PG\",\"PG\",\"PG\",\"PG\",\"PG\",\"PG\",\"PG\",\"PG\",\"PG\",\"PG\",\"PG\",\"PG\",\"PG\",\"PG\",\"PG\",\"PG\",\"PG\",\"PG\",\"PG\",\"PG\",\"PG\",\"PG\",\"PG\",\"PG\",\"PG\",\"PG\",\"PG\",\"PG\",\"PG\",\"PG\",\"PG\",\"PG\",\"PG\",\"PG\",\"PG\",\"PG\",\"PG\",\"PG\",\"PG\",\"PG\",\"PG\",\"PG\",\"PG\",\"PG\",\"PG\",\"PG\",\"PG\",\"PG\",\"PG\",\"PG\",\"PG\",\"PG\",\"PG\",\"PG\",\"PG\",\"PG\",\"PG\",\"PG\",\"PG\",\"PG\",\"PG\",\"PG\",\"PG\"],\"xaxis\":\"x\",\"y\":[1,1,1,1,1,1,1,1,1,1,1,1,1,1,1,1,1,1,1,1,1,1,1,1,1,1,1,1,1,1,1,1,1,1,1,1,1,1,1,1,1,1,1,1,1,1,1,1,1,1,1,1,1,1,1,1,1,1,1,1,1,1,1,1,1,1,1,1,1,1,1,1,1,1,1,1,1,1,1,1,1,1,1,1,1,1,1,1,1,1,1,1,1,1,1,1,1,1,1,1,1,1,1,1,1,1,1,1,1,1,1,1,1,1,1,1,1,1,1,1,1,1,1,1,1,1,1,1,1,1,1,1,1,1,1,1,1,1,1,1,1,1,1,1,1,1,1,1,1,1,1,1,1,1,1,1,1,1,1,1,1,1,1,1,1,1,1,1,1,1,1,1,1,1,1,1],\"yaxis\":\"y\",\"type\":\"bar\"},{\"alignmentgroup\":\"True\",\"hovertemplate\":\"rating=%{x}<br>count=%{y}<extra></extra>\",\"legendgroup\":\"TV-Y7\",\"marker\":{\"color\":\"#B6E880\",\"pattern\":{\"shape\":\"\"},\"line\":{\"width\":0}},\"name\":\"TV-Y7\",\"offsetgroup\":\"TV-Y7\",\"orientation\":\"v\",\"showlegend\":true,\"textposition\":\"auto\",\"x\":[\"TV-Y7\",\"TV-Y7\",\"TV-Y7\",\"TV-Y7\",\"TV-Y7\",\"TV-Y7\",\"TV-Y7\",\"TV-Y7\",\"TV-Y7\",\"TV-Y7\",\"TV-Y7\",\"TV-Y7\",\"TV-Y7\",\"TV-Y7\",\"TV-Y7\",\"TV-Y7\",\"TV-Y7\",\"TV-Y7\",\"TV-Y7\",\"TV-Y7\",\"TV-Y7\",\"TV-Y7\",\"TV-Y7\",\"TV-Y7\",\"TV-Y7\",\"TV-Y7\",\"TV-Y7\",\"TV-Y7\",\"TV-Y7\",\"TV-Y7\",\"TV-Y7\",\"TV-Y7\",\"TV-Y7\",\"TV-Y7\",\"TV-Y7\",\"TV-Y7\",\"TV-Y7\",\"TV-Y7\",\"TV-Y7\",\"TV-Y7\",\"TV-Y7\",\"TV-Y7\",\"TV-Y7\",\"TV-Y7\",\"TV-Y7\",\"TV-Y7\",\"TV-Y7\",\"TV-Y7\"],\"xaxis\":\"x\",\"y\":[1,1,1,1,1,1,1,1,1,1,1,1,1,1,1,1,1,1,1,1,1,1,1,1,1,1,1,1,1,1,1,1,1,1,1,1,1,1,1,1,1,1,1,1,1,1,1,1],\"yaxis\":\"y\",\"type\":\"bar\"},{\"alignmentgroup\":\"True\",\"hovertemplate\":\"rating=%{x}<br>count=%{y}<extra></extra>\",\"legendgroup\":\"G\",\"marker\":{\"color\":\"#FF97FF\",\"pattern\":{\"shape\":\"\"},\"line\":{\"width\":0}},\"name\":\"G\",\"offsetgroup\":\"G\",\"orientation\":\"v\",\"showlegend\":true,\"textposition\":\"auto\",\"x\":[\"G\",\"G\",\"G\",\"G\",\"G\",\"G\",\"G\",\"G\",\"G\",\"G\",\"G\",\"G\",\"G\",\"G\",\"G\",\"G\",\"G\",\"G\",\"G\",\"G\",\"G\",\"G\",\"G\",\"G\",\"G\",\"G\",\"G\",\"G\",\"G\",\"G\",\"G\",\"G\",\"G\",\"G\",\"G\"],\"xaxis\":\"x\",\"y\":[1,1,1,1,1,1,1,1,1,1,1,1,1,1,1,1,1,1,1,1,1,1,1,1,1,1,1,1,1,1,1,1,1,1,1],\"yaxis\":\"y\",\"type\":\"bar\"},{\"alignmentgroup\":\"True\",\"hovertemplate\":\"rating=%{x}<br>count=%{y}<extra></extra>\",\"legendgroup\":\"TV-G\",\"marker\":{\"color\":\"#FECB52\",\"pattern\":{\"shape\":\"\"},\"line\":{\"width\":0}},\"name\":\"TV-G\",\"offsetgroup\":\"TV-G\",\"orientation\":\"v\",\"showlegend\":true,\"textposition\":\"auto\",\"x\":[\"TV-G\",\"TV-G\",\"TV-G\",\"TV-G\",\"TV-G\",\"TV-G\",\"TV-G\",\"TV-G\",\"TV-G\",\"TV-G\",\"TV-G\",\"TV-G\",\"TV-G\",\"TV-G\",\"TV-G\",\"TV-G\",\"TV-G\",\"TV-G\",\"TV-G\",\"TV-G\",\"TV-G\",\"TV-G\",\"TV-G\",\"TV-G\",\"TV-G\",\"TV-G\",\"TV-G\",\"TV-G\",\"TV-G\",\"TV-G\",\"TV-G\",\"TV-G\",\"TV-G\",\"TV-G\",\"TV-G\",\"TV-G\",\"TV-G\",\"TV-G\",\"TV-G\",\"TV-G\",\"TV-G\",\"TV-G\",\"TV-G\",\"TV-G\",\"TV-G\",\"TV-G\",\"TV-G\",\"TV-G\",\"TV-G\",\"TV-G\",\"TV-G\",\"TV-G\",\"TV-G\",\"TV-G\"],\"xaxis\":\"x\",\"y\":[1,1,1,1,1,1,1,1,1,1,1,1,1,1,1,1,1,1,1,1,1,1,1,1,1,1,1,1,1,1,1,1,1,1,1,1,1,1,1,1,1,1,1,1,1,1,1,1,1,1,1,1,1,1],\"yaxis\":\"y\",\"type\":\"bar\"},{\"alignmentgroup\":\"True\",\"hovertemplate\":\"rating=%{x}<br>count=%{y}<extra></extra>\",\"legendgroup\":\"UR\",\"marker\":{\"color\":\"#636efa\",\"pattern\":{\"shape\":\"\"},\"line\":{\"width\":0}},\"name\":\"UR\",\"offsetgroup\":\"UR\",\"orientation\":\"v\",\"showlegend\":true,\"textposition\":\"auto\",\"x\":[\"UR\",\"UR\",\"UR\",\"UR\",\"UR\",\"UR\",\"UR\"],\"xaxis\":\"x\",\"y\":[1,1,1,1,1,1,1],\"yaxis\":\"y\",\"type\":\"bar\"},{\"alignmentgroup\":\"True\",\"hovertemplate\":\"rating=%{x}<br>count=%{y}<extra></extra>\",\"legendgroup\":\"TV-Y7-FV\",\"marker\":{\"color\":\"#EF553B\",\"pattern\":{\"shape\":\"\"},\"line\":{\"width\":0}},\"name\":\"TV-Y7-FV\",\"offsetgroup\":\"TV-Y7-FV\",\"orientation\":\"v\",\"showlegend\":true,\"textposition\":\"auto\",\"x\":[\"TV-Y7-FV\",\"TV-Y7-FV\",\"TV-Y7-FV\",\"TV-Y7-FV\",\"TV-Y7-FV\",\"TV-Y7-FV\",\"TV-Y7-FV\",\"TV-Y7-FV\",\"TV-Y7-FV\",\"TV-Y7-FV\",\"TV-Y7-FV\"],\"xaxis\":\"x\",\"y\":[1,1,1,1,1,1,1,1,1,1,1],\"yaxis\":\"y\",\"type\":\"bar\"},{\"alignmentgroup\":\"True\",\"hovertemplate\":\"rating=%{x}<br>count=%{y}<extra></extra>\",\"legendgroup\":\"TV-Y\",\"marker\":{\"color\":\"#00cc96\",\"pattern\":{\"shape\":\"\"},\"line\":{\"width\":0}},\"name\":\"TV-Y\",\"offsetgroup\":\"TV-Y\",\"orientation\":\"v\",\"showlegend\":true,\"textposition\":\"auto\",\"x\":[\"TV-Y\",\"TV-Y\",\"TV-Y\",\"TV-Y\",\"TV-Y\",\"TV-Y\",\"TV-Y\",\"TV-Y\",\"TV-Y\",\"TV-Y\",\"TV-Y\",\"TV-Y\",\"TV-Y\",\"TV-Y\",\"TV-Y\",\"TV-Y\",\"TV-Y\",\"TV-Y\",\"TV-Y\",\"TV-Y\",\"TV-Y\",\"TV-Y\",\"TV-Y\",\"TV-Y\"],\"xaxis\":\"x\",\"y\":[1,1,1,1,1,1,1,1,1,1,1,1,1,1,1,1,1,1,1,1,1,1,1,1],\"yaxis\":\"y\",\"type\":\"bar\"},{\"alignmentgroup\":\"True\",\"hovertemplate\":\"rating=%{x}<br>count=%{y}<extra></extra>\",\"legendgroup\":\"NC-17\",\"marker\":{\"color\":\"#ab63fa\",\"pattern\":{\"shape\":\"\"},\"line\":{\"width\":0}},\"name\":\"NC-17\",\"offsetgroup\":\"NC-17\",\"orientation\":\"v\",\"showlegend\":true,\"textposition\":\"auto\",\"x\":[\"NC-17\"],\"xaxis\":\"x\",\"y\":[1],\"yaxis\":\"y\",\"type\":\"bar\"}],                        {\"template\":{\"data\":{\"bar\":[{\"error_x\":{\"color\":\"#2a3f5f\"},\"error_y\":{\"color\":\"#2a3f5f\"},\"marker\":{\"line\":{\"color\":\"#E5ECF6\",\"width\":0.5},\"pattern\":{\"fillmode\":\"overlay\",\"size\":10,\"solidity\":0.2}},\"type\":\"bar\"}],\"barpolar\":[{\"marker\":{\"line\":{\"color\":\"#E5ECF6\",\"width\":0.5},\"pattern\":{\"fillmode\":\"overlay\",\"size\":10,\"solidity\":0.2}},\"type\":\"barpolar\"}],\"carpet\":[{\"aaxis\":{\"endlinecolor\":\"#2a3f5f\",\"gridcolor\":\"white\",\"linecolor\":\"white\",\"minorgridcolor\":\"white\",\"startlinecolor\":\"#2a3f5f\"},\"baxis\":{\"endlinecolor\":\"#2a3f5f\",\"gridcolor\":\"white\",\"linecolor\":\"white\",\"minorgridcolor\":\"white\",\"startlinecolor\":\"#2a3f5f\"},\"type\":\"carpet\"}],\"choropleth\":[{\"colorbar\":{\"outlinewidth\":0,\"ticks\":\"\"},\"type\":\"choropleth\"}],\"contour\":[{\"colorbar\":{\"outlinewidth\":0,\"ticks\":\"\"},\"colorscale\":[[0.0,\"#0d0887\"],[0.1111111111111111,\"#46039f\"],[0.2222222222222222,\"#7201a8\"],[0.3333333333333333,\"#9c179e\"],[0.4444444444444444,\"#bd3786\"],[0.5555555555555556,\"#d8576b\"],[0.6666666666666666,\"#ed7953\"],[0.7777777777777778,\"#fb9f3a\"],[0.8888888888888888,\"#fdca26\"],[1.0,\"#f0f921\"]],\"type\":\"contour\"}],\"contourcarpet\":[{\"colorbar\":{\"outlinewidth\":0,\"ticks\":\"\"},\"type\":\"contourcarpet\"}],\"heatmap\":[{\"colorbar\":{\"outlinewidth\":0,\"ticks\":\"\"},\"colorscale\":[[0.0,\"#0d0887\"],[0.1111111111111111,\"#46039f\"],[0.2222222222222222,\"#7201a8\"],[0.3333333333333333,\"#9c179e\"],[0.4444444444444444,\"#bd3786\"],[0.5555555555555556,\"#d8576b\"],[0.6666666666666666,\"#ed7953\"],[0.7777777777777778,\"#fb9f3a\"],[0.8888888888888888,\"#fdca26\"],[1.0,\"#f0f921\"]],\"type\":\"heatmap\"}],\"heatmapgl\":[{\"colorbar\":{\"outlinewidth\":0,\"ticks\":\"\"},\"colorscale\":[[0.0,\"#0d0887\"],[0.1111111111111111,\"#46039f\"],[0.2222222222222222,\"#7201a8\"],[0.3333333333333333,\"#9c179e\"],[0.4444444444444444,\"#bd3786\"],[0.5555555555555556,\"#d8576b\"],[0.6666666666666666,\"#ed7953\"],[0.7777777777777778,\"#fb9f3a\"],[0.8888888888888888,\"#fdca26\"],[1.0,\"#f0f921\"]],\"type\":\"heatmapgl\"}],\"histogram\":[{\"marker\":{\"pattern\":{\"fillmode\":\"overlay\",\"size\":10,\"solidity\":0.2}},\"type\":\"histogram\"}],\"histogram2d\":[{\"colorbar\":{\"outlinewidth\":0,\"ticks\":\"\"},\"colorscale\":[[0.0,\"#0d0887\"],[0.1111111111111111,\"#46039f\"],[0.2222222222222222,\"#7201a8\"],[0.3333333333333333,\"#9c179e\"],[0.4444444444444444,\"#bd3786\"],[0.5555555555555556,\"#d8576b\"],[0.6666666666666666,\"#ed7953\"],[0.7777777777777778,\"#fb9f3a\"],[0.8888888888888888,\"#fdca26\"],[1.0,\"#f0f921\"]],\"type\":\"histogram2d\"}],\"histogram2dcontour\":[{\"colorbar\":{\"outlinewidth\":0,\"ticks\":\"\"},\"colorscale\":[[0.0,\"#0d0887\"],[0.1111111111111111,\"#46039f\"],[0.2222222222222222,\"#7201a8\"],[0.3333333333333333,\"#9c179e\"],[0.4444444444444444,\"#bd3786\"],[0.5555555555555556,\"#d8576b\"],[0.6666666666666666,\"#ed7953\"],[0.7777777777777778,\"#fb9f3a\"],[0.8888888888888888,\"#fdca26\"],[1.0,\"#f0f921\"]],\"type\":\"histogram2dcontour\"}],\"mesh3d\":[{\"colorbar\":{\"outlinewidth\":0,\"ticks\":\"\"},\"type\":\"mesh3d\"}],\"parcoords\":[{\"line\":{\"colorbar\":{\"outlinewidth\":0,\"ticks\":\"\"}},\"type\":\"parcoords\"}],\"pie\":[{\"automargin\":true,\"type\":\"pie\"}],\"scatter\":[{\"marker\":{\"colorbar\":{\"outlinewidth\":0,\"ticks\":\"\"}},\"type\":\"scatter\"}],\"scatter3d\":[{\"line\":{\"colorbar\":{\"outlinewidth\":0,\"ticks\":\"\"}},\"marker\":{\"colorbar\":{\"outlinewidth\":0,\"ticks\":\"\"}},\"type\":\"scatter3d\"}],\"scattercarpet\":[{\"marker\":{\"colorbar\":{\"outlinewidth\":0,\"ticks\":\"\"}},\"type\":\"scattercarpet\"}],\"scattergeo\":[{\"marker\":{\"colorbar\":{\"outlinewidth\":0,\"ticks\":\"\"}},\"type\":\"scattergeo\"}],\"scattergl\":[{\"marker\":{\"colorbar\":{\"outlinewidth\":0,\"ticks\":\"\"}},\"type\":\"scattergl\"}],\"scattermapbox\":[{\"marker\":{\"colorbar\":{\"outlinewidth\":0,\"ticks\":\"\"}},\"type\":\"scattermapbox\"}],\"scatterpolar\":[{\"marker\":{\"colorbar\":{\"outlinewidth\":0,\"ticks\":\"\"}},\"type\":\"scatterpolar\"}],\"scatterpolargl\":[{\"marker\":{\"colorbar\":{\"outlinewidth\":0,\"ticks\":\"\"}},\"type\":\"scatterpolargl\"}],\"scatterternary\":[{\"marker\":{\"colorbar\":{\"outlinewidth\":0,\"ticks\":\"\"}},\"type\":\"scatterternary\"}],\"surface\":[{\"colorbar\":{\"outlinewidth\":0,\"ticks\":\"\"},\"colorscale\":[[0.0,\"#0d0887\"],[0.1111111111111111,\"#46039f\"],[0.2222222222222222,\"#7201a8\"],[0.3333333333333333,\"#9c179e\"],[0.4444444444444444,\"#bd3786\"],[0.5555555555555556,\"#d8576b\"],[0.6666666666666666,\"#ed7953\"],[0.7777777777777778,\"#fb9f3a\"],[0.8888888888888888,\"#fdca26\"],[1.0,\"#f0f921\"]],\"type\":\"surface\"}],\"table\":[{\"cells\":{\"fill\":{\"color\":\"#EBF0F8\"},\"line\":{\"color\":\"white\"}},\"header\":{\"fill\":{\"color\":\"#C8D4E3\"},\"line\":{\"color\":\"white\"}},\"type\":\"table\"}]},\"layout\":{\"annotationdefaults\":{\"arrowcolor\":\"#2a3f5f\",\"arrowhead\":0,\"arrowwidth\":1},\"autotypenumbers\":\"strict\",\"coloraxis\":{\"colorbar\":{\"outlinewidth\":0,\"ticks\":\"\"}},\"colorscale\":{\"diverging\":[[0,\"#8e0152\"],[0.1,\"#c51b7d\"],[0.2,\"#de77ae\"],[0.3,\"#f1b6da\"],[0.4,\"#fde0ef\"],[0.5,\"#f7f7f7\"],[0.6,\"#e6f5d0\"],[0.7,\"#b8e186\"],[0.8,\"#7fbc41\"],[0.9,\"#4d9221\"],[1,\"#276419\"]],\"sequential\":[[0.0,\"#0d0887\"],[0.1111111111111111,\"#46039f\"],[0.2222222222222222,\"#7201a8\"],[0.3333333333333333,\"#9c179e\"],[0.4444444444444444,\"#bd3786\"],[0.5555555555555556,\"#d8576b\"],[0.6666666666666666,\"#ed7953\"],[0.7777777777777778,\"#fb9f3a\"],[0.8888888888888888,\"#fdca26\"],[1.0,\"#f0f921\"]],\"sequentialminus\":[[0.0,\"#0d0887\"],[0.1111111111111111,\"#46039f\"],[0.2222222222222222,\"#7201a8\"],[0.3333333333333333,\"#9c179e\"],[0.4444444444444444,\"#bd3786\"],[0.5555555555555556,\"#d8576b\"],[0.6666666666666666,\"#ed7953\"],[0.7777777777777778,\"#fb9f3a\"],[0.8888888888888888,\"#fdca26\"],[1.0,\"#f0f921\"]]},\"colorway\":[\"#636efa\",\"#EF553B\",\"#00cc96\",\"#ab63fa\",\"#FFA15A\",\"#19d3f3\",\"#FF6692\",\"#B6E880\",\"#FF97FF\",\"#FECB52\"],\"font\":{\"color\":\"#2a3f5f\"},\"geo\":{\"bgcolor\":\"white\",\"lakecolor\":\"white\",\"landcolor\":\"#E5ECF6\",\"showlakes\":true,\"showland\":true,\"subunitcolor\":\"white\"},\"hoverlabel\":{\"align\":\"left\"},\"hovermode\":\"closest\",\"mapbox\":{\"style\":\"light\"},\"paper_bgcolor\":\"white\",\"plot_bgcolor\":\"#E5ECF6\",\"polar\":{\"angularaxis\":{\"gridcolor\":\"white\",\"linecolor\":\"white\",\"ticks\":\"\"},\"bgcolor\":\"#E5ECF6\",\"radialaxis\":{\"gridcolor\":\"white\",\"linecolor\":\"white\",\"ticks\":\"\"}},\"scene\":{\"xaxis\":{\"backgroundcolor\":\"#E5ECF6\",\"gridcolor\":\"white\",\"gridwidth\":2,\"linecolor\":\"white\",\"showbackground\":true,\"ticks\":\"\",\"zerolinecolor\":\"white\"},\"yaxis\":{\"backgroundcolor\":\"#E5ECF6\",\"gridcolor\":\"white\",\"gridwidth\":2,\"linecolor\":\"white\",\"showbackground\":true,\"ticks\":\"\",\"zerolinecolor\":\"white\"},\"zaxis\":{\"backgroundcolor\":\"#E5ECF6\",\"gridcolor\":\"white\",\"gridwidth\":2,\"linecolor\":\"white\",\"showbackground\":true,\"ticks\":\"\",\"zerolinecolor\":\"white\"}},\"shapedefaults\":{\"line\":{\"color\":\"#2a3f5f\"}},\"ternary\":{\"aaxis\":{\"gridcolor\":\"white\",\"linecolor\":\"white\",\"ticks\":\"\"},\"baxis\":{\"gridcolor\":\"white\",\"linecolor\":\"white\",\"ticks\":\"\"},\"bgcolor\":\"#E5ECF6\",\"caxis\":{\"gridcolor\":\"white\",\"linecolor\":\"white\",\"ticks\":\"\"}},\"title\":{\"x\":0.05},\"xaxis\":{\"automargin\":true,\"gridcolor\":\"white\",\"linecolor\":\"white\",\"ticks\":\"\",\"title\":{\"standoff\":15},\"zerolinecolor\":\"white\",\"zerolinewidth\":2},\"yaxis\":{\"automargin\":true,\"gridcolor\":\"white\",\"linecolor\":\"white\",\"ticks\":\"\",\"title\":{\"standoff\":15},\"zerolinecolor\":\"white\",\"zerolinewidth\":2}}},\"xaxis\":{\"anchor\":\"y\",\"domain\":[0.0,1.0],\"title\":{\"text\":\"rating\"},\"categoryorder\":\"array\",\"categoryarray\":[\"TV-PG\",\"TV-14\",\"R\",\"TV-MA\",\"NR\",\"PG-13\",\"PG\",\"TV-Y7\",\"G\",\"TV-G\",\"UR\",\"TV-Y7-FV\",\"TV-Y\",\"NC-17\"]},\"yaxis\":{\"anchor\":\"x\",\"domain\":[0.0,1.0],\"title\":{\"text\":\"count\"}},\"legend\":{\"title\":{\"text\":\"rating\"},\"tracegroupgap\":0},\"title\":{\"text\":\"Count of Ratings by Movie and TV Shows\"},\"barmode\":\"relative\"},                        {\"responsive\": true}                    ).then(function(){\n",
              "                            \n",
              "var gd = document.getElementById('47f1fe2f-6c57-4b75-a733-728d41663a26');\n",
              "var x = new MutationObserver(function (mutations, observer) {{\n",
              "        var display = window.getComputedStyle(gd).display;\n",
              "        if (!display || display === 'none') {{\n",
              "            console.log([gd, 'removed!']);\n",
              "            Plotly.purge(gd);\n",
              "            observer.disconnect();\n",
              "        }}\n",
              "}});\n",
              "\n",
              "// Listen for the removal of the full notebook cells\n",
              "var notebookContainer = gd.closest('#notebook-container');\n",
              "if (notebookContainer) {{\n",
              "    x.observe(notebookContainer, {childList: true});\n",
              "}}\n",
              "\n",
              "// Listen for the clearing of the current output cell\n",
              "var outputEl = gd.closest('.output');\n",
              "if (outputEl) {{\n",
              "    x.observe(outputEl, {childList: true});\n",
              "}}\n",
              "\n",
              "                        })                };                            </script>        </div>\n",
              "</body>\n",
              "</html>"
            ]
          },
          "metadata": {}
        }
      ]
    },
    {
      "cell_type": "markdown",
      "source": [
        "Que 1 - Which country has highest content?"
      ],
      "metadata": {
        "id": "argm8vGj0l-W"
      }
    },
    {
      "cell_type": "code",
      "source": [
        "netflix['country'].value_counts()"
      ],
      "metadata": {
        "colab": {
          "base_uri": "https://localhost:8080/"
        },
        "id": "RUrhfrS7NDs-",
        "outputId": "5df116e5-4ffd-4a37-a189-a7e01b4527a8"
      },
      "execution_count": 17,
      "outputs": [
        {
          "output_type": "execute_result",
          "data": {
            "text/plain": [
              "United States                  1323\n",
              "India                           707\n",
              "United Kingdom                  152\n",
              "Canada                           78\n",
              "Spain                            72\n",
              "                               ... \n",
              "South Korea, Czech Republic       1\n",
              "Spain, France, Uruguay            1\n",
              "Chile, Argentina                  1\n",
              "Czech Republic, Slovakia          1\n",
              "United Kingdom, Russia            1\n",
              "Name: country, Length: 433, dtype: int64"
            ]
          },
          "metadata": {},
          "execution_count": 17
        }
      ]
    },
    {
      "cell_type": "code",
      "source": [
        "plt.figure(figsize=(10,6))\n",
        "countries = netflix['country'].value_counts().head(15)\n",
        "countries.plot(kind='bar',color = 'purple')"
      ],
      "metadata": {
        "colab": {
          "base_uri": "https://localhost:8080/",
          "height": 536
        },
        "id": "-hVUhCgWxj0E",
        "outputId": "4e4fb3b0-438a-4f44-9bd2-9670029f6cae"
      },
      "execution_count": 18,
      "outputs": [
        {
          "output_type": "execute_result",
          "data": {
            "text/plain": [
              "<matplotlib.axes._subplots.AxesSubplot at 0x7fe5ea045310>"
            ]
          },
          "metadata": {},
          "execution_count": 18
        },
        {
          "output_type": "display_data",
          "data": {
            "text/plain": [
              "<Figure size 720x432 with 1 Axes>"
            ],
            "image/png": "[encoded data removed]"
          },
          "metadata": {
            "needs_background": "light"
          }
        }
      ]
    },
    {
      "cell_type": "markdown",
      "source": [
        "Que 2 - What type of content is mostly preferred? "
      ],
      "metadata": {
        "id": "brbM5xInOlnC"
      }
    },
    {
      "cell_type": "code",
      "source": [
        "netflix['type'].value_counts()"
      ],
      "metadata": {
        "id": "d0lZBMgZyGLe",
        "colab": {
          "base_uri": "https://localhost:8080/"
        },
        "outputId": "638dd7f6-a8c2-49cb-9c53-ed2c5fea108b"
      },
      "execution_count": 19,
      "outputs": [
        {
          "output_type": "execute_result",
          "data": {
            "text/plain": [
              "Movie      3678\n",
              "TV Show      96\n",
              "Name: type, dtype: int64"
            ]
          },
          "metadata": {},
          "execution_count": 19
        }
      ]
    },
    {
      "cell_type": "code",
      "source": [
        "plt.figure(figsize=(10,6))\n",
        "plt.pie(netflix.type.value_counts(), labels = netflix.type.value_counts().index, labeldistance=None, autopct=\"%.1f\",colors=['lightskyblue', 'lightcoral'])\n",
        "plt.legend()\n",
        "plt.show()\n"
      ],
      "metadata": {
        "id": "u9islRogzkTj",
        "colab": {
          "base_uri": "https://localhost:8080/",
          "height": 357
        },
        "outputId": "b3ddacf3-3782-430f-b876-8815f8797470"
      },
      "execution_count": 20,
      "outputs": [
        {
          "output_type": "display_data",
          "data": {
            "text/plain": [
              "<Figure size 720x432 with 1 Axes>"
            ],
            "image/png": "[encoded data removed]"
          },
          "metadata": {}
        }
      ]
    },
    {
      "cell_type": "markdown",
      "source": [
        "Que 3 - Which content is most prefered in all given years"
      ],
      "metadata": {
        "id": "FaqRYbYfSVO6"
      }
    },
    {
      "cell_type": "code",
      "source": [
        "last_years = netflix[[\"type\",\"release_year\"]]"
      ],
      "metadata": {
        "id": "kYPkGrmJbgNy"
      },
      "execution_count": 21,
      "outputs": []
    },
    {
      "cell_type": "code",
      "source": [
        "last_years=last_years[last_years[\"release_year\"] >= 2012]"
      ],
      "metadata": {
        "id": "aNlErep5bgEe"
      },
      "execution_count": 22,
      "outputs": []
    },
    {
      "cell_type": "code",
      "source": [
        "last_years.release_year.value_counts().sort_index()"
      ],
      "metadata": {
        "colab": {
          "base_uri": "https://localhost:8080/"
        },
        "id": "E2MadWegbj3Y",
        "outputId": "810779b6-f11c-41a7-9221-e7be66602bde"
      },
      "execution_count": 23,
      "outputs": [
        {
          "output_type": "execute_result",
          "data": {
            "text/plain": [
              "2012    117\n",
              "2013    155\n",
              "2014    196\n",
              "2015    324\n",
              "2016    514\n",
              "2017    585\n",
              "2018    537\n",
              "2019    326\n",
              "2020      6\n",
              "Name: release_year, dtype: int64"
            ]
          },
          "metadata": {},
          "execution_count": 23
        }
      ]
    },
    {
      "cell_type": "code",
      "source": [
        "plt.figure(figsize=(10,8))\n",
        "sns.countplot(x=\"release_year\", data=last_years, hue=\"type\", palette=\"viridis\")"
      ],
      "metadata": {
        "colab": {
          "base_uri": "https://localhost:8080/",
          "height": 516
        },
        "id": "JWSACwXLPFwP",
        "outputId": "8db73772-b32d-4e54-f07a-d3405276cf09"
      },
      "execution_count": 24,
      "outputs": [
        {
          "output_type": "execute_result",
          "data": {
            "text/plain": [
              "<matplotlib.axes._subplots.AxesSubplot at 0x7fe5ead06410>"
            ]
          },
          "metadata": {},
          "execution_count": 24
        },
        {
          "output_type": "display_data",
          "data": {
            "text/plain": [
              "<Figure size 720x576 with 1 Axes>"
            ],
            "image/png": "[encoded data removed]"
          },
          "metadata": {
            "needs_background": "light"
          }
        }
      ]
    },
    {
      "cell_type": "markdown",
      "source": [
        "Network analysis of Actors / Directors and find interesting insights"
      ],
      "metadata": {
        "id": "pvj1mfu0XgBH"
      }
    },
    {
      "cell_type": "code",
      "source": [
        "netflix['director'] = netflix['director'].str.split(',')\n",
        "\n"
      ],
      "metadata": {
        "id": "2DNa5FJCVbed"
      },
      "execution_count": 25,
      "outputs": []
    },
    {
      "cell_type": "code",
      "source": [
        "netflix.explode('director')['director'].value_counts()[:10].plot(kind='bar' , color = 'brown')"
      ],
      "metadata": {
        "colab": {
          "base_uri": "https://localhost:8080/",
          "height": 364
        },
        "id": "Cy5N_fYdXv8I",
        "outputId": "3946f005-89cd-4839-bde9-2ee61b2afa81"
      },
      "execution_count": 26,
      "outputs": [
        {
          "output_type": "execute_result",
          "data": {
            "text/plain": [
              "<matplotlib.axes._subplots.AxesSubplot at 0x7fe5e9ef4110>"
            ]
          },
          "metadata": {},
          "execution_count": 26
        },
        {
          "output_type": "display_data",
          "data": {
            "text/plain": [
              "<Figure size 432x288 with 1 Axes>"
            ],
            "image/png": "[encoded data removed]"
          },
          "metadata": {
            "needs_background": "light"
          }
        }
      ]
    },
    {
      "cell_type": "code",
      "source": [
        "netflix['cast'] = netflix['cast'].str.split(',')"
      ],
      "metadata": {
        "id": "-x9w-1NbX0nY"
      },
      "execution_count": 27,
      "outputs": []
    },
    {
      "cell_type": "code",
      "source": [
        "netflix.explode('cast')['cast'].value_counts()[:20].plot(kind='bar' , color = 'red')\n"
      ],
      "metadata": {
        "colab": {
          "base_uri": "https://localhost:8080/",
          "height": 369
        },
        "id": "sqxwXBbOYU9n",
        "outputId": "ddaedda6-9eb6-40fb-bb82-59c0399716b5"
      },
      "execution_count": 28,
      "outputs": [
        {
          "output_type": "execute_result",
          "data": {
            "text/plain": [
              "<matplotlib.axes._subplots.AxesSubplot at 0x7fe5e9ad1c50>"
            ]
          },
          "metadata": {},
          "execution_count": 28
        },
        {
          "output_type": "display_data",
          "data": {
            "text/plain": [
              "<Figure size 432x288 with 1 Axes>"
            ],
            "image/png": "[encoded data removed]"
          },
          "metadata": {
            "needs_background": "light"
          }
        }
      ]
    },
    {
      "cell_type": "markdown",
      "source": [
        "CONCLUSION :\n",
        "\n",
        "There are 6234 rows and 12 columns in dataset.\n",
        "\n",
        "We have dropped null values in dataset.\n",
        "\n",
        "TV-MA has highest ratings followed by TV-14 and R.\n",
        "\n",
        "USA has highest content available followed by India , UK , Canada , spain , Turkey any so on.\n",
        "\n",
        "Movie type of content is more preferred as compared to TV Shows.\n",
        "\n",
        "In year 2017 most number of movies are released and in year 2019 most number of TV shows are released.\n",
        "\n",
        "Raul and Jan suter are top directors followed by Jay Karas , Marcus Raboy , Jay Chapman\n",
        "\n",
        "Anupam Kher is the top most actor followed by Om puri , Boman Irani , SRK , Paresh Rawal and so on."
      ],
      "metadata": {
        "id": "AXVV0TjjiX7j"
      }
    }
  ]
}